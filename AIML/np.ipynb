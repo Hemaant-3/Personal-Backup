{
 "cells": [
  {
   "cell_type": "markdown",
   "metadata": {},
   "source": [
    "### Numpy simple library\n"
   ]
  },
  {
   "cell_type": "code",
   "execution_count": 40,
   "metadata": {},
   "outputs": [
    {
     "name": "stdout",
     "output_type": "stream",
     "text": [
      "[12, 34, 21, 54, 68, 98, 23, 65] <class 'list'>\n"
     ]
    }
   ],
   "source": [
    "simple_list = [12,34,21,54,68,98,23,65]\n",
    "print(simple_list,type(simple_list))"
   ]
  },
  {
   "cell_type": "code",
   "execution_count": 41,
   "metadata": {},
   "outputs": [
    {
     "name": "stdout",
     "output_type": "stream",
     "text": [
      "[12 34 21 54 68 98 23 65] <class 'numpy.ndarray'>\n"
     ]
    }
   ],
   "source": [
    "import numpy as np #importing numpy library\n",
    "np_simple_list = np.array(simple_list)\n",
    "print(np_simple_list, type(np_simple_list))"
   ]
  },
  {
   "cell_type": "code",
   "execution_count": 42,
   "metadata": {},
   "outputs": [
    {
     "name": "stdout",
     "output_type": "stream",
     "text": [
      "[[12, 34, 45], [35, 76, 87], [11, 33, 55]]\n"
     ]
    }
   ],
   "source": [
    "simple_listof_list = [[12,34,45],[35,76,87],[11,33,55,]]\n",
    "print(simple_listof_list)\n"
   ]
  },
  {
   "cell_type": "code",
   "execution_count": 43,
   "metadata": {},
   "outputs": [
    {
     "name": "stdout",
     "output_type": "stream",
     "text": [
      "[[12 34 45]\n",
      " [35 76 87]\n",
      " [11 33 55]] <class 'list'>\n"
     ]
    }
   ],
   "source": [
    "print(np.array(simple_listof_list),type(simple_listof_list)) #simple numpy list of "
   ]
  },
  {
   "cell_type": "markdown",
   "metadata": {},
   "source": [
    "-  printing Rows and Column"
   ]
  },
  {
   "cell_type": "code",
   "execution_count": 44,
   "metadata": {},
   "outputs": [
    {
     "name": "stdout",
     "output_type": "stream",
     "text": [
      "[1 2 3] <class 'numpy.ndarray'>\n"
     ]
    }
   ],
   "source": [
    "row_vector = np.array([1,2,3])\n",
    "print(row_vector,type(row_vector))"
   ]
  },
  {
   "cell_type": "code",
   "execution_count": 45,
   "metadata": {},
   "outputs": [
    {
     "name": "stdout",
     "output_type": "stream",
     "text": [
      "[[1]\n",
      " [2]\n",
      " [3]] <class 'numpy.ndarray'>\n"
     ]
    }
   ],
   "source": [
    "column_vector = np.array([[1],[2],[3]])\n",
    "print(column_vector,type(column_vector))"
   ]
  },
  {
   "cell_type": "markdown",
   "metadata": {},
   "source": [
    "#### Generating random array using builtin features\n"
   ]
  },
  {
   "cell_type": "code",
   "execution_count": 46,
   "metadata": {},
   "outputs": [
    {
     "name": "stdout",
     "output_type": "stream",
     "text": [
      "[ 0  1  2  3  4  5  6  7  8  9 10 11 12 13 14 15 16 17 18 19] <class 'numpy.ndarray'>\n"
     ]
    }
   ],
   "source": [
    "array1 = np.arange(20) # it gives 0 to 20 elements in an array\n",
    "print(array1,type(array1))"
   ]
  },
  {
   "cell_type": "code",
   "execution_count": 47,
   "metadata": {},
   "outputs": [
    {
     "name": "stdout",
     "output_type": "stream",
     "text": [
      "<class 'numpy.ndarray'> [ 0  4  8 12 16]\n"
     ]
    }
   ],
   "source": [
    "array2 = np.arange(0,20,4) # it start with 0 end with 19 and step is 4\n",
    "print(type(array2),array2)"
   ]
  },
  {
   "cell_type": "code",
   "execution_count": 48,
   "metadata": {},
   "outputs": [
    {
     "name": "stdout",
     "output_type": "stream",
     "text": [
      "[0. 0. 0. 0. 0. 0. 0. 0. 0. 0.]\n"
     ]
    }
   ],
   "source": [
    "print(np.zeros(10)) #it gives zero as 10 times\n"
   ]
  },
  {
   "cell_type": "code",
   "execution_count": 49,
   "metadata": {},
   "outputs": [
    {
     "name": "stdout",
     "output_type": "stream",
     "text": [
      "[[0. 0. 0.]\n",
      " [0. 0. 0.]\n",
      " [0. 0. 0.]\n",
      " [0. 0. 0.]]\n"
     ]
    }
   ],
   "source": [
    "print(np.zeros((4,3))) #specify rows and column"
   ]
  },
  {
   "cell_type": "code",
   "execution_count": 50,
   "metadata": {},
   "outputs": [
    {
     "name": "stdout",
     "output_type": "stream",
     "text": [
      "[1. 1. 1. 1. 1. 1. 1. 1. 1. 1.]\n"
     ]
    }
   ],
   "source": [
    "print(np.ones(10))"
   ]
  },
  {
   "cell_type": "code",
   "execution_count": 51,
   "metadata": {},
   "outputs": [
    {
     "name": "stdout",
     "output_type": "stream",
     "text": [
      "[[1. 1. 1.]\n",
      " [1. 1. 1.]\n",
      " [1. 1. 1.]\n",
      " [1. 1. 1.]]\n"
     ]
    }
   ],
   "source": [
    "print(np.ones((4,3)))"
   ]
  },
  {
   "cell_type": "markdown",
   "metadata": {},
   "source": [
    "# Full\n",
    "##fill values in array/matrix"
   ]
  },
  {
   "cell_type": "code",
   "execution_count": 52,
   "metadata": {},
   "outputs": [
    {
     "name": "stdout",
     "output_type": "stream",
     "text": [
      "[[7 7 7 7]\n",
      " [7 7 7 7]\n",
      " [7 7 7 7]\n",
      " [7 7 7 7]]\n"
     ]
    }
   ],
   "source": [
    "array3 = np.full((4,4),fill_value=7)\n",
    "print(array3)"
   ]
  },
  {
   "cell_type": "markdown",
   "metadata": {},
   "source": [
    "## linspace\n",
    "### Gives "
   ]
  },
  {
   "cell_type": "code",
   "execution_count": 53,
   "metadata": {},
   "outputs": [
    {
     "name": "stdout",
     "output_type": "stream",
     "text": [
      "[2.   2.25 2.5  2.75 3.  ] float64\n"
     ]
    },
    {
     "data": {
      "text/plain": [
       "(5,)"
      ]
     },
     "execution_count": 53,
     "metadata": {},
     "output_type": "execute_result"
    }
   ],
   "source": [
    "lk = np.linspace(2.0,3.0,5) #apecify start end and jumps.\n",
    "                            # stop value must be needed in this functions.\n",
    "print(lk,lk.dtype)\n",
    "\n",
    "type(lk)\n",
    "lk.size\n",
    "lk.shape"
   ]
  },
  {
   "cell_type": "code",
   "execution_count": 54,
   "metadata": {},
   "outputs": [
    {
     "name": "stdout",
     "output_type": "stream",
     "text": [
      "[ 0.          3.55555556  7.11111111 10.66666667 14.22222222 17.77777778\n",
      " 21.33333333 24.88888889 28.44444444 32.        ]\n"
     ]
    }
   ],
   "source": [
    "print(np.linspace(0,32,10))"
   ]
  },
  {
   "cell_type": "code",
   "execution_count": 55,
   "metadata": {},
   "outputs": [
    {
     "name": "stdout",
     "output_type": "stream",
     "text": [
      "[ 2  5  8 11 14 17]\n",
      "6 \n",
      " (6,) \n",
      " 5 \n",
      " 0 \n",
      " [0 1 2 3 4 5]\n"
     ]
    }
   ],
   "source": [
    "my_randArr = np.arange(2,20,3,dtype=int)\n",
    "# my_randArr = array1\n",
    "print(my_randArr)\n",
    "type(my_randArr)\n",
    "print(my_randArr.size,\"\\n\",\n",
    "my_randArr.shape,\"\\n\",\n",
    "my_randArr.argmax(),\"\\n\",\n",
    "my_randArr.argmin(),\"\\n\",\n",
    "my_randArr.argsort(),)"
   ]
  },
  {
   "cell_type": "markdown",
   "metadata": {},
   "source": [
    "# Empty numpy\n",
    "### like_array"
   ]
  },
  {
   "cell_type": "code",
   "execution_count": 59,
   "metadata": {},
   "outputs": [
    {
     "name": "stdout",
     "output_type": "stream",
     "text": [
      "[ 0  4  8 12 16]\n"
     ]
    },
    {
     "data": {
      "text/plain": [
       "array([2.0e-323, 1.5e-323, 9.9e-324, 4.9e-324, 2.5e-323])"
      ]
     },
     "execution_count": 59,
     "metadata": {},
     "output_type": "execute_result"
    }
   ],
   "source": [
    "Array_empty = np.empty(shape=(2,3),dtype=float,order=\"F\",)\n",
    "print(Array_empty)\n",
    "Sarr_1 = array2\n",
    "print(Sarr_1)\n",
    "np.empty_like(Sarr_1,dtype=float,order=\"C\",subok=True)"
   ]
  },
  {
   "cell_type": "markdown",
   "metadata": {},
   "source": [
    "# Eye \n",
    "return 2d array"
   ]
  },
  {
   "cell_type": "code",
   "execution_count": 69,
   "metadata": {},
   "outputs": [
    {
     "name": "stdout",
     "output_type": "stream",
     "text": [
      "[[1 0 0]\n",
      " [0 1 0]\n",
      " [0 0 1]]  Array 1\n",
      " [[0 1 0]\n",
      " [0 0 1]\n",
      " [0 0 0]] array2\n",
      " [[0 0 0]\n",
      " [1 0 0]\n",
      " [0 1 0]]\n"
     ]
    }
   ],
   "source": [
    "G_array0 = np.eye(3,3,dtype=int)     # Gives the diagonal identity element.\n",
    "G_array1 = np.eye(3,3,dtype=int, k = 1)     # Gives the diagonal identity element.\n",
    "G_array2 = np.eye(3,3,dtype=int,k=-1)     # Gives the diagonal identity element.\n",
    "print(G_array0,\" Array 1\\n\",G_array1,\"array2\\n\",G_array2)"
   ]
  },
  {
   "cell_type": "markdown",
   "metadata": {},
   "source": [
    "## Random array\n"
   ]
  },
  {
   "cell_type": "code",
   "execution_count": 75,
   "metadata": {},
   "outputs": [
    {
     "name": "stdout",
     "output_type": "stream",
     "text": [
      "[0.14862148 0.61346842 0.82720976 0.16159609 0.94437163]\n",
      "******************************************\n",
      "[[0.46387195 0.03636395 0.40696191]\n",
      " [0.43241719 0.14062139 0.19011055]\n",
      " [0.47491115 0.42122915 0.08856959]]\n"
     ]
    }
   ],
   "source": [
    "Rnd_array = np.random.random(5)\n",
    "print(Rnd_array)\n",
    "print(\"******************************************\")\n",
    "Rnd_narray = np.random.random((3,3))\n",
    "print(Rnd_narray)"
   ]
  },
  {
   "cell_type": "code",
   "execution_count": 79,
   "metadata": {},
   "outputs": [
    {
     "name": "stdout",
     "output_type": "stream",
     "text": [
      "[1 1 0 2 3]\n",
      "[3 3 1 1 3 3 1 1 1 2]\n",
      "\n",
      "\n",
      "[[2 3 3 3 1]\n",
      " [2 5 4 5 1]\n",
      " [2 3 1 3 1]\n",
      " [4 3 1 4 3]\n",
      " [3 4 5 4 2]]\n"
     ]
    }
   ],
   "source": [
    "restr_arr= np.random.randint(4,size=5)      #It returns size of integers is 5 and value is in between less than 4.\n",
    "print(restr_arr)\n",
    "restriced_arr = np.random.randint(1,4,size=10) # it returns integers betwwen 1 and less than 4.\n",
    "print(restriced_arr)\n",
    "print(\"\\n\")\n",
    "Matrix_Rest_array = np.random.randint(1,6,size=(5,5))\n",
    "print(Matrix_Rest_array)"
   ]
  },
  {
   "cell_type": "markdown",
   "metadata": {},
   "source": [
    "# Attributes of ndarray\n",
    "### shape,ravel,size,max,min....."
   ]
  },
  {
   "cell_type": "code",
   "execution_count": 88,
   "metadata": {},
   "outputs": [
    {
     "name": "stdout",
     "output_type": "stream",
     "text": [
      "[0 1 2 3 4 5 6 7 8 9]\n",
      "\n",
      "\n",
      "[[3 6 8 9]\n",
      " [5 4 2 7]]\n",
      "\n",
      "\n",
      "[3 6 8 9]\n"
     ]
    }
   ],
   "source": [
    "randArray = np.arange(10)   # Define some dummy array.\n",
    "print(randArray)\n",
    "print(\"\\n\")\n",
    "sample_array = np.array([[3,6,8,9],[5,4,2,7]])\n",
    "sample_array2 = np.array([3,6,8,9])\n",
    "print(sample_array)\n",
    "print(\"\\n\")\n",
    "print(sample_array2)"
   ]
  },
  {
   "cell_type": "code",
   "execution_count": 97,
   "metadata": {},
   "outputs": [
    {
     "name": "stdout",
     "output_type": "stream",
     "text": [
      "(2, 4)\n",
      "8\n",
      "2\n",
      "1\n"
     ]
    }
   ],
   "source": [
    "print(sample_array.shape)\n",
    "\n",
    "print(sample_array.size)\n",
    "print(sample_array.ndim) # Printing axis\n",
    "print(sample_array2.ndim)"
   ]
  },
  {
   "cell_type": "markdown",
   "metadata": {},
   "source": [
    "### Method of reshaping"
   ]
  },
  {
   "cell_type": "code",
   "execution_count": 111,
   "metadata": {},
   "outputs": [
    {
     "name": "stdout",
     "output_type": "stream",
     "text": [
      "[[3 6]\n",
      " [8 9]\n",
      " [5 4]\n",
      " [2 7]]\n",
      "\n",
      "\n",
      "[[3 6]\n",
      " [8 9]]\n",
      "[3 6 8 9]\n"
     ]
    }
   ],
   "source": [
    "print(sample_array.reshape(4,2)) #re-shaping the size.\n",
    "sample_array = sample_array.reshape((4,2))\n",
    "print(\"\\n\")\n",
    "print(sample_array2.reshape(2,2))\n",
    "sample_array2.reshape((2,2))\n",
    "# Tranpose an array"
   ]
  },
  {
   "cell_type": "code",
   "execution_count": 110,
   "metadata": {},
   "outputs": [
    {
     "name": "stdout",
     "output_type": "stream",
     "text": [
      "[3 6 8 9 5 4 2 7]\n",
      "\n",
      "\n",
      "[3 6 8 9]\n"
     ]
    }
   ],
   "source": [
    "# To flatten the array from n dimension into 1 dimension.\n",
    "print(sample_array.ravel())\n",
    "print(\"\\n\")\n"
   ]
  },
  {
   "cell_type": "code",
   "execution_count": 113,
   "metadata": {},
   "outputs": [
    {
     "name": "stdout",
     "output_type": "stream",
     "text": [
      "[0 2 4 6]\n"
     ]
    }
   ],
   "source": [
    "Rsadom = np.arange(0,8,2)\n",
    "print(Rsadom)\n",
    "print(rand_array.argmax()) \n",
    " # if multidimensional array, parameter axis can be provided to check max on specific axis"
   ]
  },
  {
   "cell_type": "code",
   "execution_count": null,
   "metadata": {},
   "outputs": [],
   "source": []
  }
 ],
 "metadata": {
  "interpreter": {
   "hash": "f24fb9bd9c96833ada7666618c30f0640dc157acbf48e7c08340c749ce69c83b"
  },
  "kernelspec": {
   "display_name": "Python 3.9.7 64-bit (system)",
   "language": "python",
   "name": "python3"
  },
  "language_info": {
   "codemirror_mode": {
    "name": "ipython",
    "version": 3
   },
   "file_extension": ".py",
   "mimetype": "text/x-python",
   "name": "python",
   "nbconvert_exporter": "python",
   "pygments_lexer": "ipython3",
   "version": "3.9.7"
  },
  "orig_nbformat": 4
 },
 "nbformat": 4,
 "nbformat_minor": 2
}
