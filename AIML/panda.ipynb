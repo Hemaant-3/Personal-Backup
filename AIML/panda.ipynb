{
 "cells": [
  {
   "cell_type": "code",
   "execution_count": 2,
   "metadata": {},
   "outputs": [],
   "source": [
    "import pandas as pd\n",
    "import numpy as np"
   ]
  },
  {
   "cell_type": "code",
   "execution_count": 4,
   "metadata": {},
   "outputs": [],
   "source": [
    "fruit = [\"apple\",\"banana\",\"pears\",\"Mango\",\"Orange\"] #creating a list of fruit.\n",
    "quant = [2,5,6,7,8] #Creating a list of quantity."
   ]
  },
  {
   "cell_type": "code",
   "execution_count": 8,
   "metadata": {},
   "outputs": [
    {
     "name": "stdout",
     "output_type": "stream",
     "text": [
      "apple     2\n",
      "banana    5\n",
      "pears     6\n",
      "Mango     7\n",
      "Orange    8\n",
      "dtype: int64 <class 'pandas.core.series.Series'>\n"
     ]
    }
   ],
   "source": [
    "fruit_invt = pd.Series(quant,index = fruit) # Creating panda series from list.\n",
    "print(fruit_invt,type(fruit_invt))"
   ]
  },
  {
   "cell_type": "code",
   "execution_count": 15,
   "metadata": {},
   "outputs": [
    {
     "name": "stdout",
     "output_type": "stream",
     "text": [
      "2\n",
      "Index(['apple', 'banana', 'pears', 'Mango', 'Orange'], dtype='object')\n",
      "[2 5 6 7 8]\n",
      "5.6\n",
      "2\n"
     ]
    }
   ],
   "source": [
    "print(fruit_invt[\"apple\"]) #Printing data with index apple.\n",
    "#We rename all index with fruit list.\n",
    "print(fruit_invt.index) #printing all index of fruit inventory.\n",
    "print(fruit_invt.values)# Printing all values of fruit inventory.\n",
    "print(fruit_invt.mean())#printing mean of all fruit inventory\n",
    "print(fruit_invt.min())#printing min of all fruit inventory"
   ]
  },
  {
   "cell_type": "code",
   "execution_count": 16,
   "metadata": {},
   "outputs": [
    {
     "name": "stdout",
     "output_type": "stream",
     "text": [
      "apple 2\n",
      "banana 5\n",
      "pears 6\n",
      "Mango 7\n",
      "Orange 8\n"
     ]
    }
   ],
   "source": [
    "#series iteration in pands series.\n",
    "for ind,val in fruit_invt.iteritems():\n",
    "    print(ind,val)"
   ]
  },
  {
   "cell_type": "markdown",
   "metadata": {},
   "source": [
    "##### cREATING pandas series from dictionary"
   ]
  },
  {
   "cell_type": "code",
   "execution_count": 20,
   "metadata": {},
   "outputs": [
    {
     "name": "stdout",
     "output_type": "stream",
     "text": [
      "<class 'dict'>\n",
      "orange    9\n",
      "Banana    5\n",
      "Apple     7\n",
      "Kiwi      8\n",
      "dtype: int64\n"
     ]
    }
   ],
   "source": [
    "fruit_dict = {\"orange\":9,\"Banana\":5,\"Apple\":7,\"Kiwi\":8}\n",
    "print(type(fruit_dict))\n",
    "print(pd.Series(fruit_dict)) #pandas series extract all keys from dictionary and use as label.\n"
   ]
  },
  {
   "cell_type": "markdown",
   "metadata": {},
   "source": [
    "###### Creating Pandas series from numpy array"
   ]
  },
  {
   "cell_type": "code",
   "execution_count": 22,
   "metadata": {},
   "outputs": [
    {
     "name": "stdout",
     "output_type": "stream",
     "text": [
      "<class 'numpy.ndarray'>\n",
      "[13 23 54]\n"
     ]
    }
   ],
   "source": [
    "array_test = np.array([13,23,54])\n",
    "print(type(array_test))\n",
    "print(array_test)"
   ]
  },
  {
   "cell_type": "code",
   "execution_count": 26,
   "metadata": {},
   "outputs": [
    {
     "name": "stdout",
     "output_type": "stream",
     "text": [
      "<class 'pandas.core.series.Series'> \n",
      " 0    13\n",
      "1    23\n",
      "2    54\n",
      "dtype: int32\n"
     ]
    }
   ],
   "source": [
    "num_series = pd.Series(array_test)\n",
    "print(type(num_series),\"\\n\",num_series)"
   ]
  },
  {
   "cell_type": "code",
   "execution_count": 27,
   "metadata": {},
   "outputs": [
    {
     "name": "stdout",
     "output_type": "stream",
     "text": [
      "23\n"
     ]
    }
   ],
   "source": [
    "print(num_series[1]) #printing data using index"
   ]
  },
  {
   "cell_type": "code",
   "execution_count": 28,
   "metadata": {},
   "outputs": [
    {
     "name": "stdout",
     "output_type": "stream",
     "text": [
      "0       Hemant\n",
      "1        kumar\n",
      "2    chaudhary\n",
      "dtype: object\n"
     ]
    }
   ],
   "source": [
    "new_data = ['Hemant','kumar','chaudhary']\n",
    "print(pd.Series(new_data))"
   ]
  },
  {
   "cell_type": "code",
   "execution_count": 36,
   "metadata": {},
   "outputs": [
    {
     "name": "stdout",
     "output_type": "stream",
     "text": [
      "1    NaN\n",
      "2    8.0\n",
      "5    NaN\n",
      "7    7.0\n",
      "8    NaN\n",
      "dtype: float64\n",
      "2    5\n",
      "7    3\n",
      "8    2\n",
      "5    3\n",
      "dtype: int64\n",
      "2    3\n",
      "7    4\n",
      "1    9\n",
      "dtype: int64\n"
     ]
    }
   ],
   "source": [
    "# airthmatic using two series.\n",
    "Series1 = pd.Series([5,3,2,3],[2,7,8,5]) # [values],[index].\n",
    "series2 = pd.Series([3,4,9],[2,7,1])\n",
    "print(series2+Series1)\n",
    "print(Series1)\n",
    "print(series2)"
   ]
  },
  {
   "cell_type": "code",
   "execution_count": null,
   "metadata": {},
   "outputs": [],
   "source": []
  }
 ],
 "metadata": {
  "interpreter": {
   "hash": "f24fb9bd9c96833ada7666618c30f0640dc157acbf48e7c08340c749ce69c83b"
  },
  "kernelspec": {
   "display_name": "Python 3.9.7 64-bit (system)",
   "language": "python",
   "name": "python3"
  },
  "language_info": {
   "codemirror_mode": {
    "name": "ipython",
    "version": 3
   },
   "file_extension": ".py",
   "mimetype": "text/x-python",
   "name": "python",
   "nbconvert_exporter": "python",
   "pygments_lexer": "ipython3",
   "version": "3.9.7"
  },
  "orig_nbformat": 4
 },
 "nbformat": 4,
 "nbformat_minor": 2
}
