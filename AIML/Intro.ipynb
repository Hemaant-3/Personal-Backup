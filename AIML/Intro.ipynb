{
 "cells": [
  {
   "cell_type": "code",
   "execution_count": 2,
   "metadata": {},
   "outputs": [
    {
     "name": "stdout",
     "output_type": "stream",
     "text": [
      "4.5.5\n"
     ]
    }
   ],
   "source": [
    "import cv2\n",
    "print(cv2.__version__)"
   ]
  },
  {
   "cell_type": "markdown",
   "metadata": {},
   "source": [
    "##### Reading of images."
   ]
  },
  {
   "cell_type": "code",
   "execution_count": 3,
   "metadata": {},
   "outputs": [],
   "source": [
    "image_path = \"D:\\\\Code\\Personal-Backup\\\\AIML\\\\OPENCV\\\\sample_images\\\\apple.jpg\"\n",
    "img = cv2.imread(image_path)\n"
   ]
  },
  {
   "cell_type": "code",
   "execution_count": 4,
   "metadata": {},
   "outputs": [],
   "source": [
    "# Displaying image.\n",
    "#           windowName,Images\n",
    "cv2.imshow(\"Apple Image\",img)\n",
    "cv2.waitKey(0)          #wait for any key to be pressed\n",
    "cv2.destroyAllWindows() # close all windows"
   ]
  },
  {
   "cell_type": "code",
   "execution_count": 5,
   "metadata": {},
   "outputs": [],
   "source": [
    "#auto close windows after 2000 mili seconds\n",
    "cv2.imshow('Apple',img)\n",
    "cv2.waitKey(2000)\n",
    "cv2.destroyAllWindows()"
   ]
  },
  {
   "cell_type": "markdown",
   "metadata": {},
   "source": [
    "##### image are represented by numpy array\n"
   ]
  },
  {
   "cell_type": "code",
   "execution_count": 6,
   "metadata": {},
   "outputs": [
    {
     "name": "stdout",
     "output_type": "stream",
     "text": [
      "<class 'numpy.ndarray'>\n"
     ]
    }
   ],
   "source": [
    "print(type(img))"
   ]
  },
  {
   "cell_type": "code",
   "execution_count": 7,
   "metadata": {},
   "outputs": [
    {
     "data": {
      "text/plain": [
       "True"
      ]
     },
     "execution_count": 7,
     "metadata": {},
     "output_type": "execute_result"
    }
   ],
   "source": [
    "## Saving of image\n",
    "#               file name, image\n",
    "cv2.imwrite(\"Output.jpg\",img)"
   ]
  },
  {
   "cell_type": "markdown",
   "metadata": {},
   "source": [
    "### Capturing image from camera"
   ]
  },
  {
   "cell_type": "code",
   "execution_count": 14,
   "metadata": {},
   "outputs": [],
   "source": [
    "cap = cv2.VideoCapture(0)  #open camera device,()change number to change the camera dvice\n",
    "if(cap.isOpened()): #check if camera is initialized and opened for read.\n",
    "    ret, frame = cap.read() #read a frame from camera device.\n",
    "    if(ret):\n",
    "        cv2.imshow('capture',frame)\n",
    "        cv2.imwrite(\"capt.jpg\",frame) #saving the image.\n",
    "        cv2.waitKey(0)\n",
    "        cv2.destroyAllWindows()\n",
    "cap.release()"
   ]
  },
  {
   "cell_type": "code",
   "execution_count": 15,
   "metadata": {},
   "outputs": [],
   "source": [
    "cap = cv2.VideoCapture(1)    # opens camera device, change number to change the device \n",
    "                             #(suppose you want to switch between built in webcam and USB webcam)\n",
    "if(cap.isOpened()):          # check if camera is initilized and opened for read\n",
    "    for i in range(20):\n",
    "        ret,frame=cap.read()    # reads a frane from camera device\n",
    "    if(ret):             \n",
    "        cv2.imshow('Capture',frame)\n",
    "        cv2.imwrite(\"captured_img.jpg\",frame)  # saving Image\n",
    "        cv2.waitKey(0)\n",
    "        cv2.destroyAllWindows()\n",
    "cap.release()"
   ]
  },
  {
   "cell_type": "markdown",
   "metadata": {},
   "source": [
    "##### rEAD IMAge in grayscale\n"
   ]
  },
  {
   "cell_type": "code",
   "execution_count": 16,
   "metadata": {},
   "outputs": [],
   "source": [
    "gs_img = cv2.imread(image_path,0)#zero parameter tell us that image has to be read in grayscale\n",
    "cv2.imshow(\"GrayScale\",gs_img)\n",
    "cv2.waitKey(0)\n",
    "cv2.destroyAllWindows()"
   ]
  },
  {
   "cell_type": "markdown",
   "metadata": {},
   "source": [
    "##### saving the read greyscale image"
   ]
  },
  {
   "cell_type": "code",
   "execution_count": 17,
   "metadata": {},
   "outputs": [
    {
     "data": {
      "text/plain": [
       "True"
      ]
     },
     "execution_count": 17,
     "metadata": {},
     "output_type": "execute_result"
    }
   ],
   "source": [
    "cv2.imwrite(\"gs_ouput.jpg\",gs_img)\n"
   ]
  },
  {
   "cell_type": "markdown",
   "metadata": {},
   "source": [
    "##### reading and playing videos"
   ]
  },
  {
   "cell_type": "code",
   "execution_count": 24,
   "metadata": {},
   "outputs": [],
   "source": [
    "cap = cv2.VideoCapture(\"360.avi\") #opening video files\n",
    "while(cap.isOpened()): #CHECK if the file is opened, runs in while loop till the videos doesn't end.\n",
    "    ret, frame = cap.read() #read frame from video\n",
    "    cv2.imshow('frame',frame) #display the frame\n",
    "    if cv2.waitKey(50) & 0xFF == ord('x'): #if input is x, the while loop will break, change delay in oreder to change in video spedd\n",
    "        break\n",
    "cap.release()\n",
    "cv2.destroyAllWindows()\n"
   ]
  },
  {
   "cell_type": "code",
   "execution_count": 25,
   "metadata": {},
   "outputs": [
    {
     "ename": "error",
     "evalue": "OpenCV(4.5.5) D:\\a\\opencv-python\\opencv-python\\opencv\\modules\\imgproc\\src\\color.cpp:182: error: (-215:Assertion failed) !_src.empty() in function 'cv::cvtColor'\n",
     "output_type": "error",
     "traceback": [
      "\u001b[1;31m---------------------------------------------------------------------------\u001b[0m",
      "\u001b[1;31merror\u001b[0m                                     Traceback (most recent call last)",
      "\u001b[1;32md:\\Code\\Personal-Backup\\AIML\\Intro.ipynb Cell 18'\u001b[0m in \u001b[0;36m<module>\u001b[1;34m\u001b[0m\n\u001b[0;32m      <a href='vscode-notebook-cell:/d%3A/Code/Personal-Backup/AIML/Intro.ipynb#ch0000019?line=2'>3</a>\u001b[0m \u001b[39mwhile\u001b[39;00m(cap\u001b[39m.\u001b[39misOpened()):     \u001b[39m# checks if file is opened, runs in while loop till the video doesn't end\u001b[39;00m\n\u001b[0;32m      <a href='vscode-notebook-cell:/d%3A/Code/Personal-Backup/AIML/Intro.ipynb#ch0000019?line=3'>4</a>\u001b[0m     ret, frame \u001b[39m=\u001b[39m cap\u001b[39m.\u001b[39mread()   \u001b[39m# reads a frame from video\u001b[39;00m\n\u001b[1;32m----> <a href='vscode-notebook-cell:/d%3A/Code/Personal-Backup/AIML/Intro.ipynb#ch0000019?line=4'>5</a>\u001b[0m     cv2\u001b[39m.\u001b[39;49mimshow(\u001b[39m'\u001b[39;49m\u001b[39mframe\u001b[39;49m\u001b[39m'\u001b[39;49m,frame)  \u001b[39m# display the frame\u001b[39;00m\n\u001b[0;32m      <a href='vscode-notebook-cell:/d%3A/Code/Personal-Backup/AIML/Intro.ipynb#ch0000019?line=5'>6</a>\u001b[0m     \u001b[39mif\u001b[39;00m cv2\u001b[39m.\u001b[39mwaitKey(\u001b[39m10\u001b[39m) \u001b[39m&\u001b[39m \u001b[39m0xFF\u001b[39m \u001b[39m==\u001b[39m \u001b[39mord\u001b[39m(\u001b[39m'\u001b[39m\u001b[39mx\u001b[39m\u001b[39m'\u001b[39m):   \u001b[39m# if input is x, the while loop will break, change delay in order to change speed of video\u001b[39;00m\n\u001b[0;32m      <a href='vscode-notebook-cell:/d%3A/Code/Personal-Backup/AIML/Intro.ipynb#ch0000019?line=6'>7</a>\u001b[0m         \u001b[39mbreak\u001b[39;00m\n",
      "\u001b[1;31merror\u001b[0m: OpenCV(4.5.5) D:\\a\\opencv-python\\opencv-python\\opencv\\modules\\imgproc\\src\\color.cpp:182: error: (-215:Assertion failed) !_src.empty() in function 'cv::cvtColor'\n"
     ]
    }
   ],
   "source": [
    "cap = cv2.VideoCapture(0)   # opening video file\n",
    "\n",
    "while(cap.isOpened()):     # checks if file is opened, runs in while loop till the video doesn't end\n",
    "    ret, frame = cap.read()   # reads a frame from video\n",
    "    cv2.imshow('frame',frame)  # display the frame\n",
    "    if cv2.waitKey(10) & 0xFF == ord('x'):   # if input is x, the while loop will break, change delay in order to change speed of video\n",
    "        break\n",
    "cap.release()\n",
    "cv2.destroyAllWindows()"
   ]
  }
 ],
 "metadata": {
  "interpreter": {
   "hash": "f24fb9bd9c96833ada7666618c30f0640dc157acbf48e7c08340c749ce69c83b"
  },
  "kernelspec": {
   "display_name": "Python 3.9.7 64-bit (system)",
   "language": "python",
   "name": "python3"
  },
  "language_info": {
   "codemirror_mode": {
    "name": "ipython",
    "version": 3
   },
   "file_extension": ".py",
   "mimetype": "text/x-python",
   "name": "python",
   "nbconvert_exporter": "python",
   "pygments_lexer": "ipython3",
   "version": "3.9.7"
  },
  "orig_nbformat": 4
 },
 "nbformat": 4,
 "nbformat_minor": 2
}
