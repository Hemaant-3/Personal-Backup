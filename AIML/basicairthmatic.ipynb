{
 "cells": [
  {
   "cell_type": "code",
   "execution_count": 2,
   "metadata": {},
   "outputs": [],
   "source": [
    "import cv2\n",
    "import numpy as np"
   ]
  },
  {
   "cell_type": "code",
   "execution_count": 3,
   "metadata": {},
   "outputs": [],
   "source": [
    "#Reading images\n",
    "path1 = \"D:\\\\Code\\\\Personal-Backup\\\\AIML\\\\OPENCV\\\\sample_images\\\\apple.jpg\"\n",
    "path2 = \"D:\\\\Code\\\\Personal-Backup\\\\AIML\\\\OPENCV\\\\sample_images\\\\baboon.jpg\"\n",
    "apple = cv2.imread(path1)\n",
    "baboon = cv2.imread(path2)"
   ]
  },
  {
   "cell_type": "code",
   "execution_count": 4,
   "metadata": {},
   "outputs": [],
   "source": [
    "# Displaying the images\n",
    "cv2.imshow(\"Apple\",apple)\n",
    "cv2.imshow(\"Boboon\",baboon)\n",
    "cv2.waitKey(0)\n",
    "cv2.destroyAllWindows()"
   ]
  },
  {
   "cell_type": "markdown",
   "metadata": {},
   "source": [
    "### Airthmatic operations"
   ]
  },
  {
   "cell_type": "code",
   "execution_count": 5,
   "metadata": {},
   "outputs": [
    {
     "name": "stdout",
     "output_type": "stream",
     "text": [
      "(512, 512, 3)\n",
      "(512, 512, 3)\n"
     ]
    }
   ],
   "source": [
    "#shape of both images which are to added must be same\n",
    "print(apple.shape)\n",
    "print(baboon.shape)"
   ]
  },
  {
   "cell_type": "markdown",
   "metadata": {},
   "source": [
    "### Addition of images"
   ]
  },
  {
   "cell_type": "code",
   "execution_count": 6,
   "metadata": {},
   "outputs": [],
   "source": [
    "# addition is commucative\n",
    "add1 = cv2.add(apple,baboon)\n",
    "add2 = cv2.add(baboon,apple)\n",
    "cv2.imshow(\"Apple\",apple)\n",
    "cv2.imshow(\"Baboon\",baboon)\n",
    "cv2.imshow(\"Add1\",add1)\n",
    "cv2.imshow(\"add2\",add2)\n",
    "cv2.waitKey(0)\n",
    "cv2.destroyAllWindows()"
   ]
  },
  {
   "cell_type": "markdown",
   "metadata": {},
   "source": [
    "### Weighted addition"
   ]
  },
  {
   "cell_type": "code",
   "execution_count": 7,
   "metadata": {},
   "outputs": [],
   "source": [
    "img3 = cv2.addWeighted(apple,0.7,baboon,0.3,0) #apple,weighted,baboon,weighted,White balance\n",
    "cv2.imshow(\"add\",img3)\n",
    "cv2.waitKey(0)\n",
    "cv2.destroyAllWindows()"
   ]
  },
  {
   "cell_type": "markdown",
   "metadata": {},
   "source": [
    "### Image Transition"
   ]
  },
  {
   "cell_type": "code",
   "execution_count": 8,
   "metadata": {},
   "outputs": [],
   "source": [
    "for i in np.linspace(0,1,100):\n",
    "    img3 = cv2.addWeighted(apple,i,baboon,(1-i),0)\n",
    "    cv2.imshow(\"Image\",img3)\n",
    "    if cv2.waitKey(100)&0XFF == ord(\"x\"):\n",
    "        break\n",
    "for i in np.linspace(0,1,100):\n",
    "    img3 = cv2.addWeighted(apple,1-i,baboon,i,0)\n",
    "    cv2.imshow(\"baboon\",img3)\n",
    "    if cv2.waitKey(100)&0XFF == ord(\"x\"):\n",
    "        break\n",
    "\n",
    "cv2.destroyAllWindows()\n"
   ]
  },
  {
   "cell_type": "markdown",
   "metadata": {},
   "source": [
    "## subtracting images"
   ]
  },
  {
   "cell_type": "code",
   "execution_count": 9,
   "metadata": {},
   "outputs": [],
   "source": [
    "sub1 = cv2.subtract(apple,baboon)\n",
    "sub2 = cv2.subtract(baboon,apple)\n",
    "# subtraction is not commutative property\n",
    "cv2.imshow(\"app\",apple)\n",
    "cv2.imshow(\"baboon\",baboon)\n",
    "cv2.imshow(\"sub1\",sub1)\n",
    "cv2.imshow(\"sub2\",sub2)\n",
    "cv2.waitKey(0)\n",
    "cv2.destroyAllWindows()"
   ]
  },
  {
   "cell_type": "code",
   "execution_count": 10,
   "metadata": {},
   "outputs": [],
   "source": [
    "path3= \"D:\\\\Code\\\\Personal-Backup\\\\AIML\\\\OPENCV\\\\sample_images\\\\messi5.jpg\"\n",
    "messi = cv2.imread(path3)\n",
    "cv2.imshow(\"MESSI\",messi)\n",
    "cv2.waitKey(0)\n",
    "cv2.destroyAllWindows()"
   ]
  },
  {
   "cell_type": "code",
   "execution_count": 11,
   "metadata": {},
   "outputs": [],
   "source": [
    "cv2.imshow(\"Original\",messi)\n",
    "cv2.imshow(\"flip\",np.flip(messi,0))  #file_name,axis\n",
    "cv2.waitKey(0)\n",
    "cv2.destroyAllWindows()"
   ]
  },
  {
   "cell_type": "code",
   "execution_count": 12,
   "metadata": {},
   "outputs": [],
   "source": [
    "cv2.imshow(\"Messi Original\",messi)\n",
    "cv2.imshow(\"Operated\",np.flipud(messi)) #new keyword of axis up\n",
    "cv2.waitKey(0)\n",
    "cv2.destroyAllWindows()"
   ]
  },
  {
   "cell_type": "code",
   "execution_count": 13,
   "metadata": {},
   "outputs": [],
   "source": [
    "cv2.imshow(\"Messi Original\",messi)\n",
    "cv2.imshow(\"Operated\",np.flip(messi,1))\n",
    "cv2.waitKey(0)\n",
    "cv2.destroyAllWindows()"
   ]
  },
  {
   "cell_type": "code",
   "execution_count": null,
   "metadata": {},
   "outputs": [],
   "source": [
    "cv2.imshow(\"Messi Original\",messi)\n",
    "cv2.imshow(\"Operated\",np.fliplr(messi))\n",
    "cv2.waitKey(0)\n",
    "cv2.destroyAllWindows()"
   ]
  }
 ],
 "metadata": {
  "interpreter": {
   "hash": "f24fb9bd9c96833ada7666618c30f0640dc157acbf48e7c08340c749ce69c83b"
  },
  "kernelspec": {
   "display_name": "Python 3.9.7 64-bit (system)",
   "language": "python",
   "name": "python3"
  },
  "language_info": {
   "codemirror_mode": {
    "name": "ipython",
    "version": 3
   },
   "file_extension": ".py",
   "mimetype": "text/x-python",
   "name": "python",
   "nbconvert_exporter": "python",
   "pygments_lexer": "ipython3",
   "version": "3.9.7"
  },
  "orig_nbformat": 4
 },
 "nbformat": 4,
 "nbformat_minor": 2
}
