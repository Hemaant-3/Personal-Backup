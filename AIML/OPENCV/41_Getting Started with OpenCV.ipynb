{
 "cells": [
  {
   "cell_type": "markdown",
   "metadata": {},
   "source": [
    "<a href='https://www.hexnbit.com/'> <img src='https://www.hexnbit.com/wp-content/uploads/2019/09/hexnbit_final_66px.png'/> </a>"
   ]
  },
  {
   "cell_type": "markdown",
   "metadata": {},
   "source": [
    "Documentation for OpenCV-Python:\n",
    "https://opencv-python-tutroals.readthedocs.io/en/latest/py_tutorials/py_tutorials.html"
   ]
  },
  {
   "cell_type": "markdown",
   "metadata": {},
   "source": [
    "# Installing OpenCV"
   ]
  },
  {
   "cell_type": "markdown",
   "metadata": {},
   "source": [
    "### Upgrading PIP"
   ]
  },
  {
   "cell_type": "code",
   "execution_count": null,
   "metadata": {},
   "outputs": [],
   "source": [
    "!python -m pip install --upgrade pip"
   ]
  },
  {
   "cell_type": "markdown",
   "metadata": {},
   "source": [
    "### Installing OpenCV"
   ]
  },
  {
   "cell_type": "code",
   "execution_count": null,
   "metadata": {},
   "outputs": [],
   "source": [
    "!pip3 install opencv-python"
   ]
  },
  {
   "cell_type": "markdown",
   "metadata": {},
   "source": [
    "# Importing OpenCV"
   ]
  },
  {
   "cell_type": "code",
   "execution_count": 4,
   "metadata": {},
   "outputs": [],
   "source": [
    "import cv2"
   ]
  },
  {
   "cell_type": "code",
   "execution_count": 5,
   "metadata": {},
   "outputs": [
    {
     "name": "stdout",
     "output_type": "stream",
     "text": [
      "4.2.0\n"
     ]
    }
   ],
   "source": [
    "print(cv2.__version__)"
   ]
  },
  {
   "cell_type": "markdown",
   "metadata": {},
   "source": [
    "# Reading Images"
   ]
  },
  {
   "cell_type": "code",
   "execution_count": 6,
   "metadata": {},
   "outputs": [],
   "source": [
    "img_path=\"C:\\\\Users\\\\Rushil Soni\\\\Hex_N_Bit_AI&ML\\\\Week 4\\\\sample_images\\\\apple.jpg\"  # path for apple image, change as per your folder structure\n",
    "img=cv2.imread(img_path)"
   ]
  },
  {
   "cell_type": "markdown",
   "metadata": {},
   "source": [
    "# Displaying Images"
   ]
  },
  {
   "cell_type": "markdown",
   "metadata": {},
   "source": [
    "### Wait for keyboard input to close image window"
   ]
  },
  {
   "cell_type": "code",
   "execution_count": 7,
   "metadata": {},
   "outputs": [],
   "source": [
    "#           Window Name, image\n",
    "cv2.imshow(\"Apple Image\",img)\n",
    "cv2.waitKey(0)                 # wait for any key to be pressed\n",
    "cv2.destroyAllWindows()        # close all windows"
   ]
  },
  {
   "cell_type": "markdown",
   "metadata": {},
   "source": [
    "### Auto close windown after 2000 milliseconds"
   ]
  },
  {
   "cell_type": "code",
   "execution_count": 8,
   "metadata": {},
   "outputs": [],
   "source": [
    "cv2.imshow(\"Apple Image\",img)\n",
    "cv2.waitKey(2000)              # wait for 2000 ms\n",
    "cv2.destroyAllWindows()        # close all windows"
   ]
  },
  {
   "cell_type": "markdown",
   "metadata": {},
   "source": [
    "### Images are represented as NumPy arrays"
   ]
  },
  {
   "cell_type": "code",
   "execution_count": 9,
   "metadata": {},
   "outputs": [
    {
     "name": "stdout",
     "output_type": "stream",
     "text": [
      "<class 'numpy.ndarray'>\n"
     ]
    }
   ],
   "source": [
    "print(type(img)) "
   ]
  },
  {
   "cell_type": "markdown",
   "metadata": {},
   "source": [
    "### Saving Image"
   ]
  },
  {
   "cell_type": "code",
   "execution_count": 10,
   "metadata": {},
   "outputs": [
    {
     "data": {
      "text/plain": [
       "True"
      ]
     },
     "execution_count": 10,
     "metadata": {},
     "output_type": "execute_result"
    }
   ],
   "source": [
    "#            File Name, Image\n",
    "cv2.imwrite(\"output.jpg\",img)"
   ]
  },
  {
   "cell_type": "markdown",
   "metadata": {},
   "source": [
    "### Capturing Image from Camera"
   ]
  },
  {
   "cell_type": "code",
   "execution_count": 11,
   "metadata": {},
   "outputs": [],
   "source": [
    "cap = cv2.VideoCapture(0)    # opens camera device\n",
    "if(cap.isOpened()):          # check if camera is initilized and opened for read\n",
    "    ret,frame=cap.read()    # reads a frane from camera device\n",
    "    if(ret):             \n",
    "        cv2.imshow('Capture',frame)\n",
    "        cv2.imwrite(\"captured_img.jpg\",frame)  # saving Image\n",
    "        cv2.waitKey(0)\n",
    "        cv2.destroyAllWindows()\n",
    "cap.release()                 "
   ]
  },
  {
   "cell_type": "markdown",
   "metadata": {},
   "source": [
    "If you get a black image, try to drop some initial frames as in case of cameras with slow response you will have to wait for some time till the camera is ready<br>\n",
    "Sample Code mentioned below"
   ]
  },
  {
   "cell_type": "code",
   "execution_count": 12,
   "metadata": {},
   "outputs": [],
   "source": [
    "cap = cv2.VideoCapture(1)    # opens camera device, change number to change the device \n",
    "                             #(suppose you want to switch between built in webcam and USB webcam)\n",
    "if(cap.isOpened()):          # check if camera is initilized and opened for read\n",
    "    for i in range(20):\n",
    "        ret,frame=cap.read()    # reads a frane from camera device\n",
    "    if(ret):             \n",
    "        cv2.imshow('Capture',frame)\n",
    "        cv2.imwrite(\"captured_img.jpg\",frame)  # saving Image\n",
    "        cv2.waitKey(0)\n",
    "        cv2.destroyAllWindows()\n",
    "cap.release()                 "
   ]
  },
  {
   "cell_type": "markdown",
   "metadata": {},
   "source": [
    "### Reading Image as Grayscale"
   ]
  },
  {
   "cell_type": "markdown",
   "metadata": {},
   "source": [
    "cv2.IMREAD_COLOR : Loads a color image. Any transparency of image will be neglected. It is the default flag. <br>\n",
    "cv2.IMREAD_GRAYSCALE : Loads image in grayscale mode <br>\n",
    "cv2.IMREAD_UNCHANGED : Loads image as such including alpha channel <br>\n",
    "Instead of these flags, integers (1,0,-1) can be used <br>"
   ]
  },
  {
   "cell_type": "code",
   "execution_count": 13,
   "metadata": {},
   "outputs": [],
   "source": [
    "gs_img=cv2.imread(img_path,0)    # zero parameter tells that image has to be read as a grayscale image\n",
    "cv2.imshow(\"GrayScale Apple Image\",gs_img)\n",
    "cv2.waitKey(0)\n",
    "cv2.destroyAllWindows()"
   ]
  },
  {
   "cell_type": "markdown",
   "metadata": {},
   "source": [
    "### Saving the read grayscale image"
   ]
  },
  {
   "cell_type": "code",
   "execution_count": 14,
   "metadata": {},
   "outputs": [
    {
     "data": {
      "text/plain": [
       "True"
      ]
     },
     "execution_count": 14,
     "metadata": {},
     "output_type": "execute_result"
    }
   ],
   "source": [
    "cv2.imwrite(\"gs_output.jpg\",gs_img)   "
   ]
  },
  {
   "cell_type": "markdown",
   "metadata": {},
   "source": [
    "### Reading and Playing Videos"
   ]
  },
  {
   "cell_type": "code",
   "execution_count": 15,
   "metadata": {},
   "outputs": [],
   "source": [
    "cap = cv2.VideoCapture('360.avi')   # opening video file\n",
    "\n",
    "while(cap.isOpened()):     # checks if file is opened, runs in while loop till the video doesn't end\n",
    "    ret, frame = cap.read()   # reads a frame from video\n",
    "    cv2.imshow('frame',frame)  # display the frame\n",
    "    if cv2.waitKey(10) & 0xFF == ord('x'):   # if input is x, the while loop will break, change delay in order to change speed of video\n",
    "        break\n",
    "cap.release()\n",
    "cv2.destroyAllWindows()\n"
   ]
  },
  {
   "cell_type": "code",
   "execution_count": 16,
   "metadata": {},
   "outputs": [],
   "source": [
    "cap = cv2.VideoCapture(0)   # opening video file\n",
    "\n",
    "while(cap.isOpened()):     # checks if file is opened, runs in while loop till the video doesn't end\n",
    "    ret, frame = cap.read()   # reads a frame from video\n",
    "    cv2.imshow('frame',frame)  # display the frame\n",
    "    if cv2.waitKey(10) & 0xFF == ord('x'):   # if input is x, the while loop will break, change delay in order to change speed of video\n",
    "        break\n",
    "cap.release()\n",
    "cv2.destroyAllWindows()"
   ]
  },
  {
   "cell_type": "code",
   "execution_count": null,
   "metadata": {},
   "outputs": [],
   "source": []
  }
 ],
 "metadata": {
  "kernelspec": {
   "display_name": "Python 3",
   "language": "python",
   "name": "python3"
  },
  "language_info": {
   "codemirror_mode": {
    "name": "ipython",
    "version": 3
   },
   "file_extension": ".py",
   "mimetype": "text/x-python",
   "name": "python",
   "nbconvert_exporter": "python",
   "pygments_lexer": "ipython3",
   "version": "3.7.6"
  }
 },
 "nbformat": 4,
 "nbformat_minor": 4
}
