{
 "cells": [
  {
   "cell_type": "markdown",
   "metadata": {},
   "source": [
    "### Numpy index and selection"
   ]
  },
  {
   "cell_type": "code",
   "execution_count": 6,
   "metadata": {},
   "outputs": [
    {
     "name": "stdout",
     "output_type": "stream",
     "text": [
      "[ 1  2  3  4  5  6  7  8  9 10]\n"
     ]
    }
   ],
   "source": [
    "import numpy as np\n",
    "# Creating sample array\n",
    "samp_array = np.arange(1,11) #Start,stop , step(Not np. of element{randint})\n",
    "print(samp_array)"
   ]
  },
  {
   "cell_type": "markdown",
   "metadata": {},
   "source": [
    "## Slicing/Indexing"
   ]
  },
  {
   "cell_type": "code",
   "execution_count": 11,
   "metadata": {},
   "outputs": [
    {
     "name": "stdout",
     "output_type": "stream",
     "text": [
      "4\n",
      "\n",
      "\n",
      "[4 5 6 7 8]\n",
      "\n",
      "\n",
      "[1 2 3 4 5]\n",
      "\n",
      "\n",
      "[3 5 7 9]\n"
     ]
    }
   ],
   "source": [
    "print(samp_array[3])    # Get value at index.\n",
    "print(\"\\n\")\n",
    "print(samp_array[3:8]) #slicing or iterating in given range. last index is excluded.\n",
    "print(\"\\n\")\n",
    "print(samp_array[:5]) # getting value upto range.\n",
    "print(\"\\n\")\n",
    "print(samp_array[2:9:2]) # Start,stop,step.\n",
    "\n"
   ]
  },
  {
   "cell_type": "code",
   "execution_count": 13,
   "metadata": {},
   "outputs": [
    {
     "name": "stdout",
     "output_type": "stream",
     "text": [
      "[  1   2   3 999 999 999 999 999 999  10]\n"
     ]
    }
   ],
   "source": [
    "samp_array[3:9] = 999 #setting values 99\n",
    "print(samp_array)"
   ]
  },
  {
   "cell_type": "code",
   "execution_count": 14,
   "metadata": {},
   "outputs": [
    {
     "name": "stdout",
     "output_type": "stream",
     "text": [
      "[[ 0  1  2]\n",
      " [ 3  4  5]\n",
      " [ 6  7  8]\n",
      " [ 9 10 11]\n",
      " [12 13 14]]\n"
     ]
    }
   ],
   "source": [
    "# Multidimensional array\n",
    "M_arr = np.arange(15).reshape((5,3))\n",
    "print(M_arr)"
   ]
  },
  {
   "cell_type": "code",
   "execution_count": 21,
   "metadata": {},
   "outputs": [
    {
     "name": "stdout",
     "output_type": "stream",
     "text": [
      "14\n",
      "\n",
      "\n",
      "[ 8 11]\n",
      "\n",
      "\n",
      "[[ 6  7  8]\n",
      " [ 9 10 11]]\n"
     ]
    }
   ],
   "source": [
    "print(M_arr[4,2]) # acessing element(Note-index start from 0)\n",
    "print(\"\\n\")\n",
    "print(M_arr[2:4,2]) # row range,Column.\n",
    "print(\"\\n\")\n",
    "print(M_arr[2:4]) # printing all column\n"
   ]
  },
  {
   "cell_type": "markdown",
   "metadata": {},
   "source": [
    "# Boolean Indexing\n"
   ]
  },
  {
   "cell_type": "code",
   "execution_count": 23,
   "metadata": {},
   "outputs": [
    {
     "name": "stdout",
     "output_type": "stream",
     "text": [
      "[0 1 2 3 4 5 6 7 8 9]\n"
     ]
    }
   ],
   "source": [
    "#Creating sample array.\n",
    "array1 = np.arange(10)\n",
    "print(array1)"
   ]
  },
  {
   "cell_type": "code",
   "execution_count": 26,
   "metadata": {},
   "outputs": [
    {
     "name": "stdout",
     "output_type": "stream",
     "text": [
      "[0 3 4 6 7 9]\n"
     ]
    }
   ],
   "source": [
    "mod = [True,False,False,True,True,False,True,True,False,True]\n",
    "print(array1[mod]) #Printing only true values.\n"
   ]
  },
  {
   "cell_type": "code",
   "execution_count": 29,
   "metadata": {},
   "outputs": [
    {
     "name": "stdout",
     "output_type": "stream",
     "text": [
      "[False False False False False False  True  True  True  True]\n",
      "\n",
      "\n",
      "[6 7 8 9]\n"
     ]
    }
   ],
   "source": [
    "# PRINT boolean values above limit.\n",
    "\n",
    "limit = 5\n",
    "above_limit = array1>limit\n",
    "print(above_limit)\n",
    "print(\"\\n\")\n",
    "#printing all values above limits\n",
    "print(array1[above_limit])"
   ]
  },
  {
   "cell_type": "code",
   "execution_count": 31,
   "metadata": {},
   "outputs": [
    {
     "name": "stdout",
     "output_type": "stream",
     "text": [
      "[[ 0  1  2  3]\n",
      " [ 4  5  6  7]\n",
      " [ 8  9 10 11]]\n"
     ]
    }
   ],
   "source": [
    "# Indexing with boolean array.\n",
    "test_arr = np.arange(12).reshape(3,4)\n",
    "print(test_arr)"
   ]
  },
  {
   "cell_type": "code",
   "execution_count": 34,
   "metadata": {},
   "outputs": [
    {
     "name": "stdout",
     "output_type": "stream",
     "text": [
      "[[ 4  5  6  7]\n",
      " [ 8  9 10 11]]\n"
     ]
    }
   ],
   "source": [
    "b1 = np.array([False,True,True])\n",
    "print(test_arr[b1]) #print element of row which is true in b1."
   ]
  },
  {
   "cell_type": "markdown",
   "metadata": {},
   "source": [
    "# COpy\n",
    "-Shallow copy, deep copy, No copy"
   ]
  },
  {
   "cell_type": "code",
   "execution_count": 39,
   "metadata": {},
   "outputs": [
    {
     "name": "stdout",
     "output_type": "stream",
     "text": [
      "[ 0  1  2  3  4  5  6  7  8  9 10]\n",
      "True\n"
     ]
    }
   ],
   "source": [
    "arr_1 = np.arange(11) # Creating a array.\n",
    "# No copy\n",
    "new_arr = arr_1\n",
    "print(new_arr)\n",
    "print(new_arr is arr_1) # checking both are same?\n"
   ]
  },
  {
   "cell_type": "code",
   "execution_count": 40,
   "metadata": {},
   "outputs": [
    {
     "name": "stdout",
     "output_type": "stream",
     "text": [
      "[  0   1 999   3   4   5   6   7   8   9  10]\n"
     ]
    }
   ],
   "source": [
    "# modifing content of new array\n",
    "new_arr[2] = 999\n",
    "print(new_arr)"
   ]
  },
  {
   "cell_type": "markdown",
   "metadata": {},
   "source": [
    "-   Conclusion of No copy array is\n",
    "\n",
    "###### Both the array is pointing to same address of memory adrress\n",
    "\n"
   ]
  },
  {
   "cell_type": "code",
   "execution_count": 42,
   "metadata": {},
   "outputs": [
    {
     "name": "stdout",
     "output_type": "stream",
     "text": [
      "[  0   1 999   3   4   5   6   7   8   9  10]\n"
     ]
    }
   ],
   "source": [
    "#Checking previous arr_1\n",
    "print(arr_1) # Changes are reflected in previous array.\n"
   ]
  },
  {
   "cell_type": "markdown",
   "metadata": {},
   "source": [
    "###### NOTE - content of array is also has been changed.\n"
   ]
  },
  {
   "cell_type": "markdown",
   "metadata": {},
   "source": [
    "# Deep Copy"
   ]
  },
  {
   "cell_type": "code",
   "execution_count": 44,
   "metadata": {},
   "outputs": [
    {
     "name": "stdout",
     "output_type": "stream",
     "text": [
      "[0 1 2 3 4 5 6 7 8 9]\n"
     ]
    }
   ],
   "source": [
    "arr_2 = np.arange(10) # creating a new array.\n",
    "print(arr_2)"
   ]
  },
  {
   "cell_type": "code",
   "execution_count": 49,
   "metadata": {},
   "outputs": [
    {
     "name": "stdout",
     "output_type": "stream",
     "text": [
      "False\n"
     ]
    }
   ],
   "source": [
    "new_arr2 = arr_2.copy()\n",
    "print(arr_2 is new_arr2)"
   ]
  },
  {
   "cell_type": "code",
   "execution_count": 50,
   "metadata": {},
   "outputs": [
    {
     "name": "stdout",
     "output_type": "stream",
     "text": [
      "[  0   1   2 999   4   5   6   7   8   9]\n"
     ]
    }
   ],
   "source": [
    "# Modifying new array\n",
    "new_arr2[3] = 999\n",
    "print(new_arr2)"
   ]
  },
  {
   "cell_type": "code",
   "execution_count": 51,
   "metadata": {},
   "outputs": [
    {
     "name": "stdout",
     "output_type": "stream",
     "text": [
      "[0 1 2 3 4 5 6 7 8 9]\n"
     ]
    }
   ],
   "source": [
    "print(arr_2)"
   ]
  },
  {
   "cell_type": "markdown",
   "metadata": {},
   "source": [
    "###### In above statements Notes - there is no change in original array."
   ]
  }
 ],
 "metadata": {
  "interpreter": {
   "hash": "f24fb9bd9c96833ada7666618c30f0640dc157acbf48e7c08340c749ce69c83b"
  },
  "kernelspec": {
   "display_name": "Python 3.9.7 64-bit (system)",
   "language": "python",
   "name": "python3"
  },
  "language_info": {
   "codemirror_mode": {
    "name": "ipython",
    "version": 3
   },
   "file_extension": ".py",
   "mimetype": "text/x-python",
   "name": "python",
   "nbconvert_exporter": "python",
   "pygments_lexer": "ipython3",
   "version": "3.9.7"
  },
  "orig_nbformat": 4
 },
 "nbformat": 4,
 "nbformat_minor": 2
}
