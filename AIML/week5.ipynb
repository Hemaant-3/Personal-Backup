{
 "cells": [
  {
   "cell_type": "markdown",
   "metadata": {},
   "source": [
    "### Week 5"
   ]
  },
  {
   "cell_type": "code",
   "execution_count": null,
   "metadata": {},
   "outputs": [],
   "source": [
    "import pandas as pd\n",
    "from apyori import apriori"
   ]
  },
  {
   "cell_type": "code",
   "execution_count": null,
   "metadata": {},
   "outputs": [],
   "source": [
    "# Reading data from csv file\n",
    "read_data = pd.read_csv(\"store_data.csv\",header=None)\n",
    "read_data"
   ]
  },
  {
   "cell_type": "code",
   "execution_count": null,
   "metadata": {},
   "outputs": [],
   "source": [
    "#replacing null transcation with zero\n",
    "read_data.fillna(0,inplace=True)\n",
    "read_data"
   ]
  },
  {
   "cell_type": "code",
   "execution_count": null,
   "metadata": {},
   "outputs": [],
   "source": [
    "#prinitng info\n",
    "read_data.info()"
   ]
  },
  {
   "cell_type": "markdown",
   "metadata": {},
   "source": [
    "#### Creating list of list for transactions"
   ]
  },
  {
   "cell_type": "code",
   "execution_count": null,
   "metadata": {},
   "outputs": [],
   "source": [
    "records=[]\n",
    "for i in range(0,7500):\n",
    "    records.append([str(read_data.values[i,j]) for j in range(0,20)])\n",
    "records"
   ]
  },
  {
   "cell_type": "code",
   "execution_count": 39,
   "metadata": {},
   "outputs": [],
   "source": [
    "# Association result = apriori(records, minsup=0.005,minconfidence=0.3,minlift=3,maxlength=3)\n",
    "#maxlength defines the maximum number of elements allowed in the rule.\n",
    "association_res = apriori(records, min_support=0.005, min_confidence=0.3, min_lift=3)"
   ]
  },
  {
   "cell_type": "code",
   "execution_count": 40,
   "metadata": {},
   "outputs": [],
   "source": [
    "association_rules = list(association_res)"
   ]
  },
  {
   "cell_type": "code",
   "execution_count": 41,
   "metadata": {},
   "outputs": [
    {
     "name": "stdout",
     "output_type": "stream",
     "text": [
      "24\n"
     ]
    }
   ],
   "source": [
    "#Toatal numbers of rule created\n",
    "print(len(association_rules))"
   ]
  },
  {
   "cell_type": "markdown",
   "metadata": {},
   "source": [
    "###### Fetching rules at index 0"
   ]
  },
  {
   "cell_type": "code",
   "execution_count": 42,
   "metadata": {},
   "outputs": [
    {
     "data": {
      "text/plain": [
       "RelationRecord(items=frozenset({'escalope', 'mushroom cream sauce'}), support=0.005733333333333333, ordered_statistics=[OrderedStatistic(items_base=frozenset({'mushroom cream sauce'}), items_add=frozenset({'escalope'}), confidence=0.30069930069930073, lift=3.7903273197390845)])"
      ]
     },
     "execution_count": 42,
     "metadata": {},
     "output_type": "execute_result"
    }
   ],
   "source": [
    "association_rules[0]"
   ]
  },
  {
   "cell_type": "code",
   "execution_count": 43,
   "metadata": {},
   "outputs": [
    {
     "data": {
      "text/plain": [
       "3.7903273197390845"
      ]
     },
     "execution_count": 43,
     "metadata": {},
     "output_type": "execute_result"
    }
   ],
   "source": [
    "#fetching lift rule at index zero\n",
    "association_rules[0][2][0][3]"
   ]
  },
  {
   "cell_type": "code",
   "execution_count": 44,
   "metadata": {},
   "outputs": [
    {
     "data": {
      "text/plain": [
       "3.7903273197390845"
      ]
     },
     "execution_count": 44,
     "metadata": {},
     "output_type": "execute_result"
    }
   ],
   "source": [
    "#alternate way to fetch \n",
    "association_rules[0].ordered_statistics[0].lift"
   ]
  },
  {
   "cell_type": "code",
   "execution_count": 45,
   "metadata": {},
   "outputs": [
    {
     "name": "stdout",
     "output_type": "stream",
     "text": [
      "RelationRecord(items=frozenset({'escalope', 'mushroom cream sauce'}), support=0.005733333333333333, ordered_statistics=[OrderedStatistic(items_base=frozenset({'mushroom cream sauce'}), items_add=frozenset({'escalope'}), confidence=0.30069930069930073, lift=3.7903273197390845)])\n",
      "------------------------------------------------------------------------------------\n",
      "RelationRecord(items=frozenset({'escalope', 'pasta'}), support=0.005866666666666667, ordered_statistics=[OrderedStatistic(items_base=frozenset({'pasta'}), items_add=frozenset({'escalope'}), confidence=0.37288135593220345, lift=4.700185158809287)])\n",
      "------------------------------------------------------------------------------------\n",
      "RelationRecord(items=frozenset({'ground beef', 'herb & pepper'}), support=0.016, ordered_statistics=[OrderedStatistic(items_base=frozenset({'herb & pepper'}), items_add=frozenset({'ground beef'}), confidence=0.3234501347708895, lift=3.2915549671393096)])\n",
      "------------------------------------------------------------------------------------\n",
      "RelationRecord(items=frozenset({'tomato sauce', 'ground beef'}), support=0.005333333333333333, ordered_statistics=[OrderedStatistic(items_base=frozenset({'tomato sauce'}), items_add=frozenset({'ground beef'}), confidence=0.37735849056603776, lift=3.840147461662528)])\n",
      "------------------------------------------------------------------------------------\n",
      "RelationRecord(items=frozenset({'shrimp', 'pasta'}), support=0.005066666666666666, ordered_statistics=[OrderedStatistic(items_base=frozenset({'pasta'}), items_add=frozenset({'shrimp'}), confidence=0.3220338983050848, lift=4.506071338224134)])\n",
      "------------------------------------------------------------------------------------\n",
      "RelationRecord(items=frozenset({'escalope', '0', 'mushroom cream sauce'}), support=0.005733333333333333, ordered_statistics=[OrderedStatistic(items_base=frozenset({'mushroom cream sauce'}), items_add=frozenset({'escalope', '0'}), confidence=0.30069930069930073, lift=3.7903273197390845), OrderedStatistic(items_base=frozenset({'0', 'mushroom cream sauce'}), items_add=frozenset({'escalope'}), confidence=0.30069930069930073, lift=3.7903273197390845)])\n",
      "------------------------------------------------------------------------------------\n",
      "RelationRecord(items=frozenset({'escalope', '0', 'pasta'}), support=0.005866666666666667, ordered_statistics=[OrderedStatistic(items_base=frozenset({'pasta'}), items_add=frozenset({'escalope', '0'}), confidence=0.37288135593220345, lift=4.700185158809287), OrderedStatistic(items_base=frozenset({'0', 'pasta'}), items_add=frozenset({'escalope'}), confidence=0.37288135593220345, lift=4.700185158809287)])\n",
      "------------------------------------------------------------------------------------\n",
      "RelationRecord(items=frozenset({'ground beef', '0', 'herb & pepper'}), support=0.016, ordered_statistics=[OrderedStatistic(items_base=frozenset({'herb & pepper'}), items_add=frozenset({'ground beef', '0'}), confidence=0.3234501347708895, lift=3.2915549671393096), OrderedStatistic(items_base=frozenset({'0', 'herb & pepper'}), items_add=frozenset({'ground beef'}), confidence=0.3234501347708895, lift=3.2915549671393096)])\n",
      "------------------------------------------------------------------------------------\n",
      "RelationRecord(items=frozenset({'tomato sauce', 'ground beef', '0'}), support=0.005333333333333333, ordered_statistics=[OrderedStatistic(items_base=frozenset({'tomato sauce'}), items_add=frozenset({'ground beef', '0'}), confidence=0.37735849056603776, lift=3.840147461662528), OrderedStatistic(items_base=frozenset({'tomato sauce', '0'}), items_add=frozenset({'ground beef'}), confidence=0.37735849056603776, lift=3.840147461662528)])\n",
      "------------------------------------------------------------------------------------\n",
      "RelationRecord(items=frozenset({'shrimp', '0', 'pasta'}), support=0.005066666666666666, ordered_statistics=[OrderedStatistic(items_base=frozenset({'pasta'}), items_add=frozenset({'shrimp', '0'}), confidence=0.3220338983050848, lift=4.514493901473151), OrderedStatistic(items_base=frozenset({'0', 'pasta'}), items_add=frozenset({'shrimp'}), confidence=0.3220338983050848, lift=4.506071338224134)])\n",
      "------------------------------------------------------------------------------------\n",
      "RelationRecord(items=frozenset({'ground beef', 'spaghetti', 'frozen vegetables'}), support=0.008666666666666666, ordered_statistics=[OrderedStatistic(items_base=frozenset({'spaghetti', 'frozen vegetables'}), items_add=frozenset({'ground beef'}), confidence=0.3110047846889952, lift=3.164906221394116)])\n",
      "------------------------------------------------------------------------------------\n",
      "RelationRecord(items=frozenset({'shrimp', 'mineral water', 'frozen vegetables'}), support=0.0072, ordered_statistics=[OrderedStatistic(items_base=frozenset({'shrimp', 'mineral water'}), items_add=frozenset({'frozen vegetables'}), confidence=0.3050847457627119, lift=3.200189640867607)])\n",
      "------------------------------------------------------------------------------------\n",
      "RelationRecord(items=frozenset({'tomatoes', 'spaghetti', 'frozen vegetables'}), support=0.006666666666666667, ordered_statistics=[OrderedStatistic(items_base=frozenset({'tomatoes', 'spaghetti'}), items_add=frozenset({'frozen vegetables'}), confidence=0.3184713375796178, lift=3.340608436149837)])\n",
      "------------------------------------------------------------------------------------\n",
      "RelationRecord(items=frozenset({'ground beef', 'spaghetti', 'grated cheese'}), support=0.005333333333333333, ordered_statistics=[OrderedStatistic(items_base=frozenset({'spaghetti', 'grated cheese'}), items_add=frozenset({'ground beef'}), confidence=0.3225806451612903, lift=3.282706701098612)])\n",
      "------------------------------------------------------------------------------------\n",
      "RelationRecord(items=frozenset({'ground beef', 'mineral water', 'herb & pepper'}), support=0.006666666666666667, ordered_statistics=[OrderedStatistic(items_base=frozenset({'mineral water', 'herb & pepper'}), items_add=frozenset({'ground beef'}), confidence=0.390625, lift=3.975152645861601)])\n",
      "------------------------------------------------------------------------------------\n",
      "RelationRecord(items=frozenset({'ground beef', 'spaghetti', 'herb & pepper'}), support=0.0064, ordered_statistics=[OrderedStatistic(items_base=frozenset({'spaghetti', 'herb & pepper'}), items_add=frozenset({'ground beef'}), confidence=0.3934426229508197, lift=4.003825878061259)])\n",
      "------------------------------------------------------------------------------------\n",
      "RelationRecord(items=frozenset({'shrimp', 'ground beef', 'spaghetti'}), support=0.006, ordered_statistics=[OrderedStatistic(items_base=frozenset({'shrimp', 'ground beef'}), items_add=frozenset({'spaghetti'}), confidence=0.5232558139534884, lift=3.004914704939635)])\n",
      "------------------------------------------------------------------------------------\n",
      "RelationRecord(items=frozenset({'ground beef', 'spaghetti', '0', 'frozen vegetables'}), support=0.008666666666666666, ordered_statistics=[OrderedStatistic(items_base=frozenset({'spaghetti', 'frozen vegetables'}), items_add=frozenset({'ground beef', '0'}), confidence=0.3110047846889952, lift=3.164906221394116), OrderedStatistic(items_base=frozenset({'spaghetti', '0', 'frozen vegetables'}), items_add=frozenset({'ground beef'}), confidence=0.3110047846889952, lift=3.164906221394116)])\n",
      "------------------------------------------------------------------------------------\n",
      "RelationRecord(items=frozenset({'shrimp', 'mineral water', '0', 'frozen vegetables'}), support=0.0072, ordered_statistics=[OrderedStatistic(items_base=frozenset({'shrimp', 'mineral water'}), items_add=frozenset({'0', 'frozen vegetables'}), confidence=0.3050847457627119, lift=3.200189640867607), OrderedStatistic(items_base=frozenset({'shrimp', 'mineral water', '0'}), items_add=frozenset({'frozen vegetables'}), confidence=0.3068181818181818, lift=3.2183725365543547)])\n",
      "------------------------------------------------------------------------------------\n",
      "RelationRecord(items=frozenset({'tomatoes', 'spaghetti', '0', 'frozen vegetables'}), support=0.006666666666666667, ordered_statistics=[OrderedStatistic(items_base=frozenset({'tomatoes', 'spaghetti'}), items_add=frozenset({'0', 'frozen vegetables'}), confidence=0.3184713375796178, lift=3.340608436149837), OrderedStatistic(items_base=frozenset({'tomatoes', 'spaghetti', '0'}), items_add=frozenset({'frozen vegetables'}), confidence=0.3184713375796178, lift=3.340608436149837)])\n",
      "------------------------------------------------------------------------------------\n",
      "RelationRecord(items=frozenset({'ground beef', 'spaghetti', '0', 'grated cheese'}), support=0.005333333333333333, ordered_statistics=[OrderedStatistic(items_base=frozenset({'spaghetti', 'grated cheese'}), items_add=frozenset({'ground beef', '0'}), confidence=0.3225806451612903, lift=3.282706701098612), OrderedStatistic(items_base=frozenset({'spaghetti', '0', 'grated cheese'}), items_add=frozenset({'ground beef'}), confidence=0.3225806451612903, lift=3.282706701098612)])\n",
      "------------------------------------------------------------------------------------\n",
      "RelationRecord(items=frozenset({'ground beef', 'mineral water', '0', 'herb & pepper'}), support=0.006666666666666667, ordered_statistics=[OrderedStatistic(items_base=frozenset({'mineral water', 'herb & pepper'}), items_add=frozenset({'ground beef', '0'}), confidence=0.390625, lift=3.975152645861601), OrderedStatistic(items_base=frozenset({'mineral water', '0', 'herb & pepper'}), items_add=frozenset({'ground beef'}), confidence=0.390625, lift=3.975152645861601)])\n",
      "------------------------------------------------------------------------------------\n",
      "RelationRecord(items=frozenset({'ground beef', 'spaghetti', '0', 'herb & pepper'}), support=0.0064, ordered_statistics=[OrderedStatistic(items_base=frozenset({'spaghetti', 'herb & pepper'}), items_add=frozenset({'ground beef', '0'}), confidence=0.3934426229508197, lift=4.003825878061259), OrderedStatistic(items_base=frozenset({'spaghetti', '0', 'herb & pepper'}), items_add=frozenset({'ground beef'}), confidence=0.3934426229508197, lift=4.003825878061259)])\n",
      "------------------------------------------------------------------------------------\n",
      "RelationRecord(items=frozenset({'shrimp', 'ground beef', 'spaghetti', '0'}), support=0.006, ordered_statistics=[OrderedStatistic(items_base=frozenset({'shrimp', 'ground beef'}), items_add=frozenset({'spaghetti', '0'}), confidence=0.5232558139534884, lift=3.004914704939635), OrderedStatistic(items_base=frozenset({'shrimp', 'ground beef', '0'}), items_add=frozenset({'spaghetti'}), confidence=0.5232558139534884, lift=3.004914704939635)])\n",
      "------------------------------------------------------------------------------------\n"
     ]
    }
   ],
   "source": [
    "## PRinting all rules       \n",
    "for association in association_rules:\n",
    "    print(association)\n",
    "    print(\"------------------------------------------------------------------------------------\")"
   ]
  }
 ],
 "metadata": {
  "interpreter": {
   "hash": "f24fb9bd9c96833ada7666618c30f0640dc157acbf48e7c08340c749ce69c83b"
  },
  "kernelspec": {
   "display_name": "Python 3.9.7 64-bit (system)",
   "language": "python",
   "name": "python3"
  },
  "language_info": {
   "codemirror_mode": {
    "name": "ipython",
    "version": 3
   },
   "file_extension": ".py",
   "mimetype": "text/x-python",
   "name": "python",
   "nbconvert_exporter": "python",
   "pygments_lexer": "ipython3",
   "version": "3.9.7"
  },
  "orig_nbformat": 4
 },
 "nbformat": 4,
 "nbformat_minor": 2
}
