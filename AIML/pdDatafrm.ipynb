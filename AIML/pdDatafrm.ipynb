{
 "cells": [
  {
   "cell_type": "markdown",
   "metadata": {},
   "source": [
    "# Data frames"
   ]
  },
  {
   "cell_type": "code",
   "execution_count": 181,
   "metadata": {},
   "outputs": [],
   "source": [
    "import pandas as pd\n",
    "import numpy as np"
   ]
  },
  {
   "cell_type": "code",
   "execution_count": 182,
   "metadata": {},
   "outputs": [
    {
     "name": "stdout",
     "output_type": "stream",
     "text": [
      "[[ 0  1  2  3  4]\n",
      " [ 5  6  7  8  9]\n",
      " [10 11 12 13 14]\n",
      " [15 16 17 18 19]\n",
      " [20 21 22 23 24]]\n"
     ]
    }
   ],
   "source": [
    "num_data = np.arange(25).reshape(5,5)\n",
    "print(num_data)"
   ]
  },
  {
   "cell_type": "markdown",
   "metadata": {},
   "source": [
    "###### creating data frames"
   ]
  },
  {
   "cell_type": "code",
   "execution_count": 183,
   "metadata": {},
   "outputs": [
    {
     "name": "stdout",
     "output_type": "stream",
     "text": [
      "    C1  C2  C3  C4  C5\n",
      "R1   0   1   2   3   4\n",
      "R2   5   6   7   8   9\n",
      "R3  10  11  12  13  14\n",
      "R4  15  16  17  18  19\n",
      "R5  20  21  22  23  24\n"
     ]
    }
   ],
   "source": [
    "frame = pd.DataFrame(data=num_data,index=['R1','R2','R3','R4','R5'],columns=['C1','C2','C3','C4','C5'])\n",
    "print(frame)\n",
    "# Creating a frame using data frame pandas\n",
    "#giving row name and column name.\n"
   ]
  },
  {
   "cell_type": "code",
   "execution_count": 184,
   "metadata": {},
   "outputs": [
    {
     "name": "stdout",
     "output_type": "stream",
     "text": [
      "    C1  C2  C3  C4  C5\n",
      "R1   0   1   2   3   4\n",
      "R2   5   6   7   8   9\n",
      "R3  10  11  12  13  14\n",
      "R4  15  16  17  18  19\n",
      "R5  20  21  22  23  24\n",
      "<class 'pandas.core.frame.DataFrame'>\n"
     ]
    }
   ],
   "source": [
    "frame1 = pd.DataFrame(num_data,['R1','R2','R3','R4','R5'],['C1','C2','C3','C4','C5'])\n",
    "#same without keyword index,column,data\n",
    "print(frame1)\n",
    "print(type(frame1))"
   ]
  },
  {
   "cell_type": "code",
   "execution_count": 185,
   "metadata": {},
   "outputs": [
    {
     "name": "stdout",
     "output_type": "stream",
     "text": [
      "R1     2\n",
      "R2     7\n",
      "R3    12\n",
      "R4    17\n",
      "R5    22\n",
      "Name: C3, dtype: int32\n"
     ]
    }
   ],
   "source": [
    "# Fetching complete column from column c3\n",
    "print(frame['C3'])"
   ]
  },
  {
   "cell_type": "code",
   "execution_count": 186,
   "metadata": {},
   "outputs": [
    {
     "name": "stdout",
     "output_type": "stream",
     "text": [
      "    C3  C4\n",
      "R1   2   3\n",
      "R2   7   8\n",
      "R3  12  13\n",
      "R4  17  18\n",
      "R5  22  23\n",
      "    C3  C4  C2\n",
      "R1   2   3   1\n",
      "R2   7   8   6\n",
      "R3  12  13  11\n",
      "R4  17  18  16\n",
      "R5  22  23  21\n"
     ]
    }
   ],
   "source": [
    "print(frame[[\"C3\",\"C4\"]]) #print more than two column\n",
    "# print(frame[\"C3\",\"C4\"]) #print more than two column \n",
    "# Note - must use double square brackets to fetch multiple columns\n",
    "print(frame[[\"C3\",\"C4\",'C2']])"
   ]
  },
  {
   "cell_type": "code",
   "execution_count": 187,
   "metadata": {},
   "outputs": [
    {
     "name": "stdout",
     "output_type": "stream",
     "text": [
      "    C1  C2\n",
      "R1   0   1\n",
      "R2   5   6\n",
      "R3  10  11\n",
      "R4  15  16\n",
      "R5  20  21\n"
     ]
    }
   ],
   "source": [
    "print(frame.iloc[:,[0,1]]) # iloc( index lock). it fetch through indexing.\n",
    "#sytanx - iloc[start of rows:,[index of row number.]]\n",
    "#accessing the element by number indexing"
   ]
  },
  {
   "cell_type": "markdown",
   "metadata": {},
   "source": [
    "###### Row indexing"
   ]
  },
  {
   "cell_type": "code",
   "execution_count": 188,
   "metadata": {},
   "outputs": [
    {
     "name": "stdout",
     "output_type": "stream",
     "text": [
      "C1    0\n",
      "C2    1\n",
      "C3    2\n",
      "C4    3\n",
      "C5    4\n",
      "Name: R1, dtype: int32\n"
     ]
    }
   ],
   "source": [
    "print(frame.loc[\"R1\"]) # accessing Rows by its index name."
   ]
  },
  {
   "cell_type": "code",
   "execution_count": 189,
   "metadata": {},
   "outputs": [
    {
     "name": "stdout",
     "output_type": "stream",
     "text": [
      "    C1  C2  C3  C4  C5\n",
      "R1   0   1   2   3   4\n",
      "R2   5   6   7   8   9\n"
     ]
    }
   ],
   "source": [
    "print(frame.loc[[\"R1\", \"R2\"]])\n",
    "# accessing multiple rows"
   ]
  },
  {
   "cell_type": "code",
   "execution_count": 190,
   "metadata": {},
   "outputs": [
    {
     "name": "stdout",
     "output_type": "stream",
     "text": [
      "C1    0\n",
      "C2    1\n",
      "C3    2\n",
      "C4    3\n",
      "C5    4\n",
      "Name: R1, dtype: int32\n"
     ]
    }
   ],
   "source": [
    "print(frame.iloc[0]) # row can accessing by index numbers."
   ]
  },
  {
   "cell_type": "code",
   "execution_count": 191,
   "metadata": {},
   "outputs": [
    {
     "name": "stdout",
     "output_type": "stream",
     "text": [
      "    C1  C2  C3  C4  C5\n",
      "R1   0   1   2   3   4\n",
      "R2   5   6   7   8   9\n"
     ]
    }
   ],
   "source": [
    "print(frame.loc[['R1','R2']]) # accessing multiple row.\n"
   ]
  },
  {
   "cell_type": "markdown",
   "metadata": {},
   "source": [
    "#### Row and column indexing"
   ]
  },
  {
   "cell_type": "code",
   "execution_count": 192,
   "metadata": {},
   "outputs": [
    {
     "name": "stdout",
     "output_type": "stream",
     "text": [
      "7\n"
     ]
    }
   ],
   "source": [
    "print(frame.loc['R2', 'C3'])  # single row and single column indexing.\n"
   ]
  },
  {
   "cell_type": "code",
   "execution_count": 193,
   "metadata": {},
   "outputs": [
    {
     "name": "stdout",
     "output_type": "stream",
     "text": [
      "    C1  C4\n",
      "R1   0   3\n",
      "R3  10  13\n"
     ]
    }
   ],
   "source": [
    "print(frame.loc[['R1','R3'],['C1','C4']]) # multiple row cloumn indexing."
   ]
  },
  {
   "cell_type": "markdown",
   "metadata": {},
   "source": [
    "###### Creating a new columns"
   ]
  },
  {
   "cell_type": "code",
   "execution_count": 194,
   "metadata": {},
   "outputs": [
    {
     "name": "stdout",
     "output_type": "stream",
     "text": [
      "    C1  C2  C3  C4  C5   C6\n",
      "R1   0   1   2   3   4  100\n",
      "R2   5   6   7   8   9  200\n",
      "R3  10  11  12  13  14  300\n",
      "R4  15  16  17  18  19  400\n",
      "R5  20  21  22  23  24  500\n"
     ]
    }
   ],
   "source": [
    "frame['C6'] = [100,200,300,400,500]\n",
    "print(frame)"
   ]
  },
  {
   "cell_type": "code",
   "execution_count": 195,
   "metadata": {},
   "outputs": [
    {
     "data": {
      "text/html": [
       "<div>\n",
       "<style scoped>\n",
       "    .dataframe tbody tr th:only-of-type {\n",
       "        vertical-align: middle;\n",
       "    }\n",
       "\n",
       "    .dataframe tbody tr th {\n",
       "        vertical-align: top;\n",
       "    }\n",
       "\n",
       "    .dataframe thead th {\n",
       "        text-align: right;\n",
       "    }\n",
       "</style>\n",
       "<table border=\"1\" class=\"dataframe\">\n",
       "  <thead>\n",
       "    <tr style=\"text-align: right;\">\n",
       "      <th></th>\n",
       "      <th>C1</th>\n",
       "      <th>C2</th>\n",
       "      <th>C3</th>\n",
       "      <th>C4</th>\n",
       "      <th>C5</th>\n",
       "    </tr>\n",
       "  </thead>\n",
       "  <tbody>\n",
       "    <tr>\n",
       "      <th>R1</th>\n",
       "      <td>0</td>\n",
       "      <td>1</td>\n",
       "      <td>2</td>\n",
       "      <td>3</td>\n",
       "      <td>4</td>\n",
       "    </tr>\n",
       "    <tr>\n",
       "      <th>R2</th>\n",
       "      <td>5</td>\n",
       "      <td>6</td>\n",
       "      <td>7</td>\n",
       "      <td>8</td>\n",
       "      <td>9</td>\n",
       "    </tr>\n",
       "    <tr>\n",
       "      <th>R3</th>\n",
       "      <td>10</td>\n",
       "      <td>11</td>\n",
       "      <td>12</td>\n",
       "      <td>13</td>\n",
       "      <td>14</td>\n",
       "    </tr>\n",
       "    <tr>\n",
       "      <th>R4</th>\n",
       "      <td>15</td>\n",
       "      <td>16</td>\n",
       "      <td>17</td>\n",
       "      <td>18</td>\n",
       "      <td>19</td>\n",
       "    </tr>\n",
       "    <tr>\n",
       "      <th>R5</th>\n",
       "      <td>20</td>\n",
       "      <td>21</td>\n",
       "      <td>22</td>\n",
       "      <td>23</td>\n",
       "      <td>24</td>\n",
       "    </tr>\n",
       "  </tbody>\n",
       "</table>\n",
       "</div>"
      ],
      "text/plain": [
       "    C1  C2  C3  C4  C5\n",
       "R1   0   1   2   3   4\n",
       "R2   5   6   7   8   9\n",
       "R3  10  11  12  13  14\n",
       "R4  15  16  17  18  19\n",
       "R5  20  21  22  23  24"
      ]
     },
     "execution_count": 195,
     "metadata": {},
     "output_type": "execute_result"
    }
   ],
   "source": [
    "# deleting columns\n",
    "## Temprory drop\n",
    "frame.drop(['C6'],axis=1)"
   ]
  },
  {
   "cell_type": "code",
   "execution_count": 196,
   "metadata": {},
   "outputs": [
    {
     "name": "stdout",
     "output_type": "stream",
     "text": [
      "    C1  C2  C3  C4  C5   C6\n",
      "R1   0   1   2   3   4  100\n",
      "R2   5   6   7   8   9  200\n",
      "R3  10  11  12  13  14  300\n",
      "R4  15  16  17  18  19  400\n",
      "R5  20  21  22  23  24  500\n"
     ]
    }
   ],
   "source": [
    "print(frame) # Do not reflected in frame."
   ]
  },
  {
   "cell_type": "code",
   "execution_count": 197,
   "metadata": {},
   "outputs": [],
   "source": [
    "# Permanent drop using inplace parameter as true.\n",
    "frame.drop(['C6'],axis=1,inplace=True)\n"
   ]
  },
  {
   "cell_type": "code",
   "execution_count": 198,
   "metadata": {},
   "outputs": [
    {
     "name": "stdout",
     "output_type": "stream",
     "text": [
      "    C1  C2  C3  C4  C5\n",
      "R1   0   1   2   3   4\n",
      "R2   5   6   7   8   9\n",
      "R3  10  11  12  13  14\n",
      "R4  15  16  17  18  19\n",
      "R5  20  21  22  23  24\n"
     ]
    }
   ],
   "source": [
    "print(frame) # Now reflected in frame."
   ]
  },
  {
   "cell_type": "code",
   "execution_count": 199,
   "metadata": {},
   "outputs": [
    {
     "name": "stdout",
     "output_type": "stream",
     "text": [
      "    C1  C2  C3  C4  C5\n",
      "R1   0   1   2   3   4\n",
      "R2   5   6   7   8   9\n",
      "R3  10  11  12  13  14\n",
      "R4  15  16  17  18  19\n",
      "R5  20  21  22  23  24\n",
      "R6  99  99  99  99  99\n"
     ]
    }
   ],
   "source": [
    "frame.loc[\"R6\"] = [99,99,99,99,99] # Creating a new rows\n",
    "print(frame)"
   ]
  },
  {
   "cell_type": "code",
   "execution_count": 200,
   "metadata": {},
   "outputs": [
    {
     "data": {
      "text/html": [
       "<div>\n",
       "<style scoped>\n",
       "    .dataframe tbody tr th:only-of-type {\n",
       "        vertical-align: middle;\n",
       "    }\n",
       "\n",
       "    .dataframe tbody tr th {\n",
       "        vertical-align: top;\n",
       "    }\n",
       "\n",
       "    .dataframe thead th {\n",
       "        text-align: right;\n",
       "    }\n",
       "</style>\n",
       "<table border=\"1\" class=\"dataframe\">\n",
       "  <thead>\n",
       "    <tr style=\"text-align: right;\">\n",
       "      <th></th>\n",
       "      <th>C1</th>\n",
       "      <th>C2</th>\n",
       "      <th>C3</th>\n",
       "      <th>C4</th>\n",
       "      <th>C5</th>\n",
       "    </tr>\n",
       "  </thead>\n",
       "  <tbody>\n",
       "    <tr>\n",
       "      <th>R1</th>\n",
       "      <td>0</td>\n",
       "      <td>1</td>\n",
       "      <td>2</td>\n",
       "      <td>3</td>\n",
       "      <td>4</td>\n",
       "    </tr>\n",
       "    <tr>\n",
       "      <th>R2</th>\n",
       "      <td>5</td>\n",
       "      <td>6</td>\n",
       "      <td>7</td>\n",
       "      <td>8</td>\n",
       "      <td>9</td>\n",
       "    </tr>\n",
       "    <tr>\n",
       "      <th>R3</th>\n",
       "      <td>10</td>\n",
       "      <td>11</td>\n",
       "      <td>12</td>\n",
       "      <td>13</td>\n",
       "      <td>14</td>\n",
       "    </tr>\n",
       "    <tr>\n",
       "      <th>R4</th>\n",
       "      <td>15</td>\n",
       "      <td>16</td>\n",
       "      <td>17</td>\n",
       "      <td>18</td>\n",
       "      <td>19</td>\n",
       "    </tr>\n",
       "    <tr>\n",
       "      <th>R5</th>\n",
       "      <td>20</td>\n",
       "      <td>21</td>\n",
       "      <td>22</td>\n",
       "      <td>23</td>\n",
       "      <td>24</td>\n",
       "    </tr>\n",
       "  </tbody>\n",
       "</table>\n",
       "</div>"
      ],
      "text/plain": [
       "    C1  C2  C3  C4  C5\n",
       "R1   0   1   2   3   4\n",
       "R2   5   6   7   8   9\n",
       "R3  10  11  12  13  14\n",
       "R4  15  16  17  18  19\n",
       "R5  20  21  22  23  24"
      ]
     },
     "execution_count": 200,
     "metadata": {},
     "output_type": "execute_result"
    }
   ],
   "source": [
    "# Deleting a row\n",
    "frame.drop([\"R6\"]) # Temp delete - no need to give axis parameters.\n",
    "#"
   ]
  },
  {
   "cell_type": "code",
   "execution_count": 201,
   "metadata": {},
   "outputs": [
    {
     "name": "stdout",
     "output_type": "stream",
     "text": [
      "    C1  C2  C3  C4  C5\n",
      "R1   0   1   2   3   4\n",
      "R2   5   6   7   8   9\n",
      "R3  10  11  12  13  14\n",
      "R4  15  16  17  18  19\n",
      "R5  20  21  22  23  24\n",
      "R6  99  99  99  99  99\n"
     ]
    }
   ],
   "source": [
    "print(frame)  # Not reflected in original frame"
   ]
  },
  {
   "cell_type": "code",
   "execution_count": 202,
   "metadata": {},
   "outputs": [
    {
     "name": "stdout",
     "output_type": "stream",
     "text": [
      "    C1  C2  C3  C4  C5\n",
      "R1   0   1   2   3   4\n",
      "R2   5   6   7   8   9\n",
      "R3  10  11  12  13  14\n",
      "R4  15  16  17  18  19\n",
      "R5  20  21  22  23  24\n"
     ]
    }
   ],
   "source": [
    "# For permanent delete\n",
    "frame.drop([\"R6\"],inplace=True) # deletion reflected in originial frame.\n",
    "\n",
    "print(frame)\n"
   ]
  },
  {
   "cell_type": "markdown",
   "metadata": {},
   "source": [
    "##### Condotional indexing"
   ]
  },
  {
   "cell_type": "code",
   "execution_count": 203,
   "metadata": {},
   "outputs": [
    {
     "name": "stdout",
     "output_type": "stream",
     "text": [
      "[       C1     C2     C3     C4     C5\n",
      "R1  False  False  False  False  False\n",
      "R2  False  False  False  False  False\n",
      "R3  False   True   True   True   True\n",
      "R4   True   True   True   True   True\n",
      "R5   True   True   True   True   True]\n"
     ]
    }
   ],
   "source": [
    "print([frame>10]) # It returns a boolean values corrosponding to it's index."
   ]
  },
  {
   "cell_type": "code",
   "execution_count": 204,
   "metadata": {},
   "outputs": [
    {
     "name": "stdout",
     "output_type": "stream",
     "text": [
      "      C1    C2    C3    C4    C5\n",
      "R1   NaN   NaN   NaN   NaN   NaN\n",
      "R2   NaN   NaN   NaN   NaN   NaN\n",
      "R3   NaN  11.0  12.0  13.0  14.0\n",
      "R4  15.0  16.0  17.0  18.0  19.0\n",
      "R5  20.0  21.0  22.0  23.0  24.0\n"
     ]
    }
   ],
   "source": [
    "# Printing all the element of frame which is greater than 10\n",
    "print(frame[frame>10])"
   ]
  },
  {
   "cell_type": "code",
   "execution_count": 205,
   "metadata": {},
   "outputs": [
    {
     "name": "stdout",
     "output_type": "stream",
     "text": [
      "[R1    False\n",
      "R2    False\n",
      "R3     True\n",
      "R4     True\n",
      "R5     True\n",
      "Name: C2, dtype: bool]\n"
     ]
    }
   ],
   "source": [
    "#printing boolean for column C2 which is greater than 6.\n",
    "print([frame[\"C2\"]>6])\n"
   ]
  },
  {
   "cell_type": "code",
   "execution_count": 206,
   "metadata": {},
   "outputs": [
    {
     "name": "stdout",
     "output_type": "stream",
     "text": [
      "    C1  C2  C3  C4  C5\n",
      "R3  10  11  12  13  14\n",
      "R4  15  16  17  18  19\n",
      "R5  20  21  22  23  24\n"
     ]
    }
   ],
   "source": [
    "#printing all elements of all column which is greater than 6.\n",
    "print(frame[frame['C2']>6])"
   ]
  },
  {
   "cell_type": "code",
   "execution_count": 207,
   "metadata": {},
   "outputs": [
    {
     "name": "stdout",
     "output_type": "stream",
     "text": [
      "R3    11\n",
      "R4    16\n",
      "R5    21\n",
      "Name: C2, dtype: int64\n"
     ]
    }
   ],
   "source": [
    "#printing all rows of c2 which is greater than 6.\n",
    "print(frame[frame['C2']>6]['C2'])"
   ]
  },
  {
   "cell_type": "code",
   "execution_count": 208,
   "metadata": {},
   "outputs": [
    {
     "name": "stdout",
     "output_type": "stream",
     "text": [
      "    C1  C2  C3  C4  C5\n",
      "R4  15  16  17  18  19\n",
      "R5  20  21  22  23  24\n"
     ]
    }
   ],
   "source": [
    "print(frame[(frame['C2'] > 6) & (frame[\"C3\"] > 12)])\n",
    "\n",
    "#printing the element which is c2 greater than 6 and c3 is greater than 12."
   ]
  },
  {
   "cell_type": "markdown",
   "metadata": {},
   "source": [
    "#### Index manipulation."
   ]
  },
  {
   "cell_type": "code",
   "execution_count": 209,
   "metadata": {},
   "outputs": [
    {
     "name": "stdout",
     "output_type": "stream",
     "text": [
      "    C1  C2  C3  C4  C5\n",
      "R1   0   1   2   3   4\n",
      "R2   5   6   7   8   9\n",
      "R3  10  11  12  13  14\n",
      "R4  15  16  17  18  19\n",
      "R5  20  21  22  23  24\n",
      "  index  C1  C2  C3  C4  C5\n",
      "0    R1   0   1   2   3   4\n",
      "1    R2   5   6   7   8   9\n",
      "2    R3  10  11  12  13  14\n",
      "3    R4  15  16  17  18  19\n",
      "4    R5  20  21  22  23  24\n"
     ]
    }
   ],
   "source": [
    "print(frame)\n",
    "# temprory reset, for permanent reset use axis parameter and inplace parameter as true\n",
    "print(frame.reset_index())\n",
    "# print(frame.reset_index(inplace=True))\n"
   ]
  },
  {
   "cell_type": "code",
   "execution_count": 210,
   "metadata": {},
   "outputs": [
    {
     "name": "stdout",
     "output_type": "stream",
     "text": [
      "    C1  C2  C3  C4  C5  new\n",
      "R1   0   1   2   3   4  R11\n",
      "R2   5   6   7   8   9  R22\n",
      "R3  10  11  12  13  14  R33\n",
      "R4  15  16  17  18  19  R44\n",
      "R5  20  21  22  23  24  R55\n"
     ]
    }
   ],
   "source": [
    "frame[\"new\"] = ['R11','R22','R33','R44','R55']\n",
    "print(frame)"
   ]
  },
  {
   "cell_type": "code",
   "execution_count": 211,
   "metadata": {},
   "outputs": [
    {
     "data": {
      "text/html": [
       "<div>\n",
       "<style scoped>\n",
       "    .dataframe tbody tr th:only-of-type {\n",
       "        vertical-align: middle;\n",
       "    }\n",
       "\n",
       "    .dataframe tbody tr th {\n",
       "        vertical-align: top;\n",
       "    }\n",
       "\n",
       "    .dataframe thead th {\n",
       "        text-align: right;\n",
       "    }\n",
       "</style>\n",
       "<table border=\"1\" class=\"dataframe\">\n",
       "  <thead>\n",
       "    <tr style=\"text-align: right;\">\n",
       "      <th></th>\n",
       "      <th>C1</th>\n",
       "      <th>C2</th>\n",
       "      <th>C3</th>\n",
       "      <th>C4</th>\n",
       "      <th>C5</th>\n",
       "    </tr>\n",
       "    <tr>\n",
       "      <th>new</th>\n",
       "      <th></th>\n",
       "      <th></th>\n",
       "      <th></th>\n",
       "      <th></th>\n",
       "      <th></th>\n",
       "    </tr>\n",
       "  </thead>\n",
       "  <tbody>\n",
       "    <tr>\n",
       "      <th>R11</th>\n",
       "      <td>0</td>\n",
       "      <td>1</td>\n",
       "      <td>2</td>\n",
       "      <td>3</td>\n",
       "      <td>4</td>\n",
       "    </tr>\n",
       "    <tr>\n",
       "      <th>R22</th>\n",
       "      <td>5</td>\n",
       "      <td>6</td>\n",
       "      <td>7</td>\n",
       "      <td>8</td>\n",
       "      <td>9</td>\n",
       "    </tr>\n",
       "    <tr>\n",
       "      <th>R33</th>\n",
       "      <td>10</td>\n",
       "      <td>11</td>\n",
       "      <td>12</td>\n",
       "      <td>13</td>\n",
       "      <td>14</td>\n",
       "    </tr>\n",
       "    <tr>\n",
       "      <th>R44</th>\n",
       "      <td>15</td>\n",
       "      <td>16</td>\n",
       "      <td>17</td>\n",
       "      <td>18</td>\n",
       "      <td>19</td>\n",
       "    </tr>\n",
       "    <tr>\n",
       "      <th>R55</th>\n",
       "      <td>20</td>\n",
       "      <td>21</td>\n",
       "      <td>22</td>\n",
       "      <td>23</td>\n",
       "      <td>24</td>\n",
       "    </tr>\n",
       "  </tbody>\n",
       "</table>\n",
       "</div>"
      ],
      "text/plain": [
       "     C1  C2  C3  C4  C5\n",
       "new                    \n",
       "R11   0   1   2   3   4\n",
       "R22   5   6   7   8   9\n",
       "R33  10  11  12  13  14\n",
       "R44  15  16  17  18  19\n",
       "R55  20  21  22  23  24"
      ]
     },
     "execution_count": 211,
     "metadata": {},
     "output_type": "execute_result"
    }
   ],
   "source": [
    "frame.set_index(\"new\") # temprory change."
   ]
  },
  {
   "cell_type": "code",
   "execution_count": 212,
   "metadata": {},
   "outputs": [
    {
     "name": "stdout",
     "output_type": "stream",
     "text": [
      "    C1  C2  C3  C4  C5  new\n",
      "R1   0   1   2   3   4  R11\n",
      "R2   5   6   7   8   9  R22\n",
      "R3  10  11  12  13  14  R33\n",
      "R4  15  16  17  18  19  R44\n",
      "R5  20  21  22  23  24  R55\n"
     ]
    }
   ],
   "source": [
    "print(frame) #change not reflected yet."
   ]
  },
  {
   "cell_type": "code",
   "execution_count": 213,
   "metadata": {},
   "outputs": [
    {
     "name": "stdout",
     "output_type": "stream",
     "text": [
      "     C1  C2  C3  C4  C5\n",
      "new                    \n",
      "R11   0   1   2   3   4\n",
      "R22   5   6   7   8   9\n",
      "R33  10  11  12  13  14\n",
      "R44  15  16  17  18  19\n",
      "R55  20  21  22  23  24\n"
     ]
    }
   ],
   "source": [
    "frame.set_index(\"new\",inplace=True)\n",
    "print(frame) #permanent set index/\\."
   ]
  },
  {
   "cell_type": "code",
   "execution_count": 214,
   "metadata": {},
   "outputs": [
    {
     "name": "stdout",
     "output_type": "stream",
     "text": [
      "[Index(['R11', 'R22', 'R33', 'R44', 'R55'], dtype='object', name='new'), Index(['C1', 'C2', 'C3', 'C4', 'C5'], dtype='object')]\n"
     ]
    }
   ],
   "source": [
    "print(frame.axes) # print axes"
   ]
  },
  {
   "cell_type": "code",
   "execution_count": 215,
   "metadata": {},
   "outputs": [],
   "source": [
    "frame.rename_axis(\"Column\",axis=1,inplace=True)\n",
    "frame.rename_axis(\"Row\",axis=0,inplace=True)\n",
    "# Permanently changes the name of axes."
   ]
  },
  {
   "cell_type": "code",
   "execution_count": 216,
   "metadata": {},
   "outputs": [
    {
     "name": "stdout",
     "output_type": "stream",
     "text": [
      "Column  C1  C2  C3  C4  C5\n",
      "Row                       \n",
      "R11      0   1   2   3   4\n",
      "R22      5   6   7   8   9\n",
      "R33     10  11  12  13  14\n",
      "R44     15  16  17  18  19\n",
      "R55     20  21  22  23  24\n"
     ]
    }
   ],
   "source": [
    "print(frame)"
   ]
  },
  {
   "cell_type": "code",
   "execution_count": 217,
   "metadata": {},
   "outputs": [
    {
     "name": "stdout",
     "output_type": "stream",
     "text": [
      "      a   b   c   d   e\n",
      "Row                    \n",
      "R11   0   1   2   3   4\n",
      "R22   5   6   7   8   9\n",
      "R33  10  11  12  13  14\n",
      "R44  15  16  17  18  19\n",
      "R55  20  21  22  23  24\n"
     ]
    }
   ],
   "source": [
    "frame.columns = ['a','b','c','d','e']\n",
    "print(frame)"
   ]
  },
  {
   "cell_type": "code",
   "execution_count": null,
   "metadata": {},
   "outputs": [],
   "source": []
  }
 ],
 "metadata": {
  "interpreter": {
   "hash": "f24fb9bd9c96833ada7666618c30f0640dc157acbf48e7c08340c749ce69c83b"
  },
  "kernelspec": {
   "display_name": "Python 3.9.7 64-bit (system)",
   "language": "python",
   "name": "python3"
  },
  "language_info": {
   "codemirror_mode": {
    "name": "ipython",
    "version": 3
   },
   "file_extension": ".py",
   "mimetype": "text/x-python",
   "name": "python",
   "nbconvert_exporter": "python",
   "pygments_lexer": "ipython3",
   "version": "3.9.7"
  },
  "orig_nbformat": 4
 },
 "nbformat": 4,
 "nbformat_minor": 2
}
