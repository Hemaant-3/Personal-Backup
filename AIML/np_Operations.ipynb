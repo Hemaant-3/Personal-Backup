{
 "cells": [
  {
   "cell_type": "markdown",
   "metadata": {},
   "source": [
    "### Operations on np\n",
    "#### Airthmatic operations on NP"
   ]
  },
  {
   "cell_type": "code",
   "execution_count": 1,
   "metadata": {},
   "outputs": [
    {
     "name": "stdout",
     "output_type": "stream",
     "text": [
      "[0 1 2 3 4 5 6 7 8 9]\n"
     ]
    }
   ],
   "source": [
    "import numpy as np\n",
    "arr = np.arange(0,10)\n",
    "print(arr)"
   ]
  },
  {
   "cell_type": "code",
   "execution_count": null,
   "metadata": {},
   "outputs": [],
   "source": [
    "# Basic airthmatic operation on numpy.\n",
    "print(arr+arr) ## addition of two array, it's not concatination.\n",
    "print(\"\\n\")\n",
    "print(arr*arr) # multiplication of two array\n",
    "print(\"\\n\")\n",
    "print(arr**3) # element raise to power 3.\n",
    "print(\"\\n\")\n",
    "print(arr-arr)\n",
    "print(\"\\n\") # Warning on division by zero, but not an error!\n",
    "print(arr/arr) #replacing infinity with nan(not a number.)\n",
    "print(\"\\n\")\n",
    "print(1/arr)    # Also warning, but not an error instead infinity\n",
    "\n",
    "\n"
   ]
  },
  {
   "cell_type": "code",
   "execution_count": 9,
   "metadata": {},
   "outputs": [
    {
     "name": "stdout",
     "output_type": "stream",
     "text": [
      "[False False False False False  True  True  True  True  True]\n"
     ]
    }
   ],
   "source": [
    "# Boolean expression\n",
    "print(arr>4) # Returns true and false data."
   ]
  },
  {
   "cell_type": "code",
   "execution_count": 12,
   "metadata": {},
   "outputs": [
    {
     "name": "stdout",
     "output_type": "stream",
     "text": [
      "[[2 0]\n",
      " [0 4]]\n",
      "[[5 4]\n",
      " [3 4]]\n"
     ]
    }
   ],
   "source": [
    "# Matrix operation\n",
    "a = np.array([[1, 1],\n",
    "              [0, 1]])\n",
    "b = np.array([[2, 0],\n",
    "              [3, 4]])\n",
    "#element wise products\n",
    "print(a*b)\n",
    "# mAtrix product \"@\"\n",
    "print(a@b)\n",
    "#"
   ]
  },
  {
   "cell_type": "markdown",
   "metadata": {},
   "source": [
    "### Universal Function array.\n",
    "-   GIVES function of sin, cos, etc.\n",
    "-   there is universal function (ufunc).\n",
    "-   within numpy we do operation on every element in matrix.\n"
   ]
  },
  {
   "cell_type": "code",
   "execution_count": 14,
   "metadata": {},
   "outputs": [
    {
     "name": "stdout",
     "output_type": "stream",
     "text": [
      "[0.         1.         1.41421356 1.73205081 2.         2.23606798\n",
      " 2.44948974 2.64575131 2.82842712 3.        ]\n",
      "\n",
      "\n",
      "[1.00000000e+00 2.71828183e+00 7.38905610e+00 2.00855369e+01\n",
      " 5.45981500e+01 1.48413159e+02 4.03428793e+02 1.09663316e+03\n",
      " 2.98095799e+03 8.10308393e+03]\n"
     ]
    }
   ],
   "source": [
    "print(np.sqrt(arr))     # Taking square root of every element.\n",
    "print(\"\\n\")\n",
    "print(np.exp(arr))      #Calculating exponential\n",
    "print(\"\\n\")\n"
   ]
  },
  {
   "cell_type": "code",
   "execution_count": 16,
   "metadata": {},
   "outputs": [
    {
     "name": "stdout",
     "output_type": "stream",
     "text": [
      "[19 17 16 13 12 15 13 10 16 17]\n",
      "[19 18 18 16 16 20 19 17 24 26]\n"
     ]
    }
   ],
   "source": [
    "new_arr = np.random.randint(10, 20, 10)  # start,   END,    No. of elements\n",
    "print(new_arr)\n",
    "print(np.add(new_arr, arr))  # addition perform elementwise.\n"
   ]
  },
  {
   "cell_type": "code",
   "execution_count": 22,
   "metadata": {},
   "outputs": [
    {
     "name": "stdout",
     "output_type": "stream",
     "text": [
      "[-0.7568025   0.98935825  0.90929743 -0.7568025  -0.95892427  0.41211849\n",
      "  0.90929743  0.14112001 -0.95892427 -0.95892427]\n",
      "\n",
      "\n",
      "[1.38629436 2.07944154 0.69314718 1.38629436 1.60943791 2.19722458\n",
      " 0.69314718 1.09861229 1.60943791 1.60943791]\n"
     ]
    }
   ],
   "source": [
    "arr = np.random.randint(2,10,10)\n",
    "print(np.sin(arr)) #return radian.\n",
    "print(\"\\n\")\n",
    "print(np.log(arr))"
   ]
  },
  {
   "cell_type": "code",
   "execution_count": null,
   "metadata": {},
   "outputs": [],
   "source": []
  }
 ],
 "metadata": {
  "interpreter": {
   "hash": "f24fb9bd9c96833ada7666618c30f0640dc157acbf48e7c08340c749ce69c83b"
  },
  "kernelspec": {
   "display_name": "Python 3.9.7 64-bit (system)",
   "language": "python",
   "name": "python3"
  },
  "language_info": {
   "codemirror_mode": {
    "name": "ipython",
    "version": 3
   },
   "file_extension": ".py",
   "mimetype": "text/x-python",
   "name": "python",
   "nbconvert_exporter": "python",
   "pygments_lexer": "ipython3",
   "version": "3.9.7"
  },
  "orig_nbformat": 4
 },
 "nbformat": 4,
 "nbformat_minor": 2
}
